{
 "cells": [
  {
   "cell_type": "markdown",
   "id": "l1E5iWIK2WxZ",
   "metadata": {
    "id": "l1E5iWIK2WxZ"
   },
   "source": [
    "# Machine Learning Data\n",
    "\n",
    "---\n",
    "\n",
    "Now, we are going to apply some ML algorithms on lightcurves contained: \n",
    "\n",
    "- 0: Confirmed Exoplanets\n",
    "- 1: Eclipsing Binaries\n",
    "- 2: Non Eclipsed\n",
    "\n",
    "With that in mind, the data from (1) and (2) will be downloaded from the [CoRoT Public Archive](http://idoc-corot.ias.u-psud.fr/sitools/client-user/COROT_N2_PUBLIC_DATA/project-index.html) and transformed into CSV files, just like we did for (0): Confirmed Exoplanets on `01 - Manipulating fits files`"
   ]
  },
  {
   "cell_type": "code",
   "execution_count": null,
   "id": "UcIz2YPr2WGy",
   "metadata": {
    "id": "UcIz2YPr2WGy"
   },
   "outputs": [],
   "source": []
  },
  {
   "cell_type": "markdown",
   "id": "given-leather",
   "metadata": {
    "id": "given-leather"
   },
   "source": [
    "# Tests"
   ]
  },
  {
   "cell_type": "code",
   "execution_count": null,
   "id": "middle-advancement",
   "metadata": {
    "colab": {
     "base_uri": "https://localhost:8080/"
    },
    "executionInfo": {
     "elapsed": 3108,
     "status": "ok",
     "timestamp": 1626964364834,
     "user": {
      "displayName": "Guilherme Samuel",
      "photoUrl": "https://lh3.googleusercontent.com/a-/AOh14Gi5zFr3jUWJ1NdrUB6KSy3C4B0uR2RLqUiKRzi0S2M=s64",
      "userId": "17398030156076443435"
     },
     "user_tz": 180
    },
    "id": "middle-advancement",
    "outputId": "635e1e01-a979-4af4-fd91-6b41937d8560"
   },
   "outputs": [
    {
     "name": "stdout",
     "output_type": "stream",
     "text": [
      "Requirement already satisfied: control in /usr/local/lib/python3.7/dist-packages (0.9.0)\n",
      "Requirement already satisfied: matplotlib in /usr/local/lib/python3.7/dist-packages (from control) (3.4.2)\n",
      "Requirement already satisfied: scipy in /usr/local/lib/python3.7/dist-packages (from control) (1.7.0)\n",
      "Requirement already satisfied: numpy in /usr/local/lib/python3.7/dist-packages (from control) (1.19.5)\n",
      "Requirement already satisfied: kiwisolver>=1.0.1 in /usr/local/lib/python3.7/dist-packages (from matplotlib->control) (1.3.1)\n",
      "Requirement already satisfied: pyparsing>=2.2.1 in /usr/local/lib/python3.7/dist-packages (from matplotlib->control) (2.4.7)\n",
      "Requirement already satisfied: pillow>=6.2.0 in /usr/local/lib/python3.7/dist-packages (from matplotlib->control) (7.1.2)\n",
      "Requirement already satisfied: python-dateutil>=2.7 in /usr/local/lib/python3.7/dist-packages (from matplotlib->control) (2.8.1)\n",
      "Requirement already satisfied: cycler>=0.10 in /usr/local/lib/python3.7/dist-packages (from matplotlib->control) (0.10.0)\n",
      "Requirement already satisfied: six in /usr/local/lib/python3.7/dist-packages (from cycler>=0.10->matplotlib->control) (1.15.0)\n"
     ]
    }
   ],
   "source": [
    "import pandas as pd\n",
    "import numpy as np\n",
    "import os\n",
    "\n",
    "!pip install control\n",
    "from tools import *"
   ]
  },
  {
   "cell_type": "code",
   "execution_count": null,
   "id": "neural-plastic",
   "metadata": {
    "id": "neural-plastic"
   },
   "outputs": [],
   "source": [
    "# FILE_PATH = r'C:\\Users\\guisa\\Google Drive\\01 - Iniciação Científica\\02 - Datasets\\csv_files\\EN2_STAR_CHR_0101086161_20070516T060226_20071005T074409.csv'\n",
    "FILE_PATH = '/content/drive/MyDrive/01 - Iniciação Científica/02 - Datasets/csv_files/EN2_STAR_CHR_0101086161_20070516T060226_20071005T074409.csv'"
   ]
  },
  {
   "cell_type": "markdown",
   "id": "underlying-celebration",
   "metadata": {
    "id": "underlying-celebration"
   },
   "source": [
    "Reading one time series"
   ]
  },
  {
   "cell_type": "code",
   "execution_count": null,
   "id": "provincial-crash",
   "metadata": {
    "colab": {
     "base_uri": "https://localhost:8080/",
     "height": 204
    },
    "executionInfo": {
     "elapsed": 10,
     "status": "ok",
     "timestamp": 1626964364835,
     "user": {
      "displayName": "Guilherme Samuel",
      "photoUrl": "https://lh3.googleusercontent.com/a-/AOh14Gi5zFr3jUWJ1NdrUB6KSy3C4B0uR2RLqUiKRzi0S2M=s64",
      "userId": "17398030156076443435"
     },
     "user_tz": 180
    },
    "id": "provincial-crash",
    "outputId": "f8f15cf8-16ea-4fa7-b49a-cea0ac980aa6"
   },
   "outputs": [
    {
     "data": {
      "text/html": [
       "<div>\n",
       "<style scoped>\n",
       "    .dataframe tbody tr th:only-of-type {\n",
       "        vertical-align: middle;\n",
       "    }\n",
       "\n",
       "    .dataframe tbody tr th {\n",
       "        vertical-align: top;\n",
       "    }\n",
       "\n",
       "    .dataframe thead th {\n",
       "        text-align: right;\n",
       "    }\n",
       "</style>\n",
       "<table border=\"1\" class=\"dataframe\">\n",
       "  <thead>\n",
       "    <tr style=\"text-align: right;\">\n",
       "      <th></th>\n",
       "      <th>DATE</th>\n",
       "      <th>WHITEFLUX</th>\n",
       "    </tr>\n",
       "  </thead>\n",
       "  <tbody>\n",
       "    <tr>\n",
       "      <th>0</th>\n",
       "      <td>2007-05-16 18:10:55.071642</td>\n",
       "      <td>112626.77</td>\n",
       "    </tr>\n",
       "    <tr>\n",
       "      <th>1</th>\n",
       "      <td>2007-05-16 18:19:27.113766</td>\n",
       "      <td>112605.61</td>\n",
       "    </tr>\n",
       "    <tr>\n",
       "      <th>2</th>\n",
       "      <td>2007-05-16 18:27:59.155929</td>\n",
       "      <td>112771.50</td>\n",
       "    </tr>\n",
       "    <tr>\n",
       "      <th>3</th>\n",
       "      <td>2007-05-16 18:36:31.198092</td>\n",
       "      <td>113113.60</td>\n",
       "    </tr>\n",
       "    <tr>\n",
       "      <th>4</th>\n",
       "      <td>2007-05-16 18:45:03.240256</td>\n",
       "      <td>112621.79</td>\n",
       "    </tr>\n",
       "  </tbody>\n",
       "</table>\n",
       "</div>"
      ],
      "text/plain": [
       "                         DATE  WHITEFLUX\n",
       "0  2007-05-16 18:10:55.071642  112626.77\n",
       "1  2007-05-16 18:19:27.113766  112605.61\n",
       "2  2007-05-16 18:27:59.155929  112771.50\n",
       "3  2007-05-16 18:36:31.198092  113113.60\n",
       "4  2007-05-16 18:45:03.240256  112621.79"
      ]
     },
     "execution_count": 64,
     "metadata": {
      "tags": []
     },
     "output_type": "execute_result"
    }
   ],
   "source": [
    "data = pd.read_csv(FILE_PATH)\n",
    "\n",
    "data.head()"
   ]
  },
  {
   "cell_type": "markdown",
   "id": "infrared-pollution",
   "metadata": {
    "id": "infrared-pollution"
   },
   "source": [
    "Taking only the flux and \"saving\" it as `pd.Series`"
   ]
  },
  {
   "cell_type": "code",
   "execution_count": null,
   "id": "timely-julian",
   "metadata": {
    "colab": {
     "base_uri": "https://localhost:8080/"
    },
    "executionInfo": {
     "elapsed": 377,
     "status": "ok",
     "timestamp": 1626964955519,
     "user": {
      "displayName": "Guilherme Samuel",
      "photoUrl": "https://lh3.googleusercontent.com/a-/AOh14Gi5zFr3jUWJ1NdrUB6KSy3C4B0uR2RLqUiKRzi0S2M=s64",
      "userId": "17398030156076443435"
     },
     "user_tz": 180
    },
    "id": "timely-julian",
    "outputId": "3464c9ed-7fd9-4cb8-9016-6e5baf890bce"
   },
   "outputs": [
    {
     "data": {
      "text/plain": [
       "0        32847.277\n",
       "1        32849.570\n",
       "2        32850.133\n",
       "3        32881.668\n",
       "4        32897.824\n",
       "           ...    \n",
       "24451    33611.984\n",
       "24452    33498.582\n",
       "24453    33537.754\n",
       "24454    33552.040\n",
       "24455    33650.860\n",
       "Name: WHITEFLUX, Length: 24456, dtype: float64"
      ]
     },
     "execution_count": 90,
     "metadata": {
      "tags": []
     },
     "output_type": "execute_result"
    }
   ],
   "source": [
    "flux = data.WHITEFLUX\n",
    "flux"
   ]
  },
  {
   "cell_type": "markdown",
   "id": "lucky-brother",
   "metadata": {
    "id": "lucky-brother"
   },
   "source": [
    "Creating a `pd.DataFrame` and appending the data from `flux` to the first column and the first row.\n",
    "\n",
    "Later, we are going to do the same for lightcurves"
   ]
  },
  {
   "cell_type": "code",
   "execution_count": null,
   "id": "paperback-interim",
   "metadata": {
    "colab": {
     "base_uri": "https://localhost:8080/",
     "height": 80
    },
    "executionInfo": {
     "elapsed": 385,
     "status": "ok",
     "timestamp": 1626965148229,
     "user": {
      "displayName": "Guilherme Samuel",
      "photoUrl": "https://lh3.googleusercontent.com/a-/AOh14Gi5zFr3jUWJ1NdrUB6KSy3C4B0uR2RLqUiKRzi0S2M=s64",
      "userId": "17398030156076443435"
     },
     "user_tz": 180
    },
    "id": "paperback-interim",
    "outputId": "0a7de3fe-b69c-44c3-c783-dc0518497f8b"
   },
   "outputs": [
    {
     "data": {
      "text/html": [
       "<div>\n",
       "<style scoped>\n",
       "    .dataframe tbody tr th:only-of-type {\n",
       "        vertical-align: middle;\n",
       "    }\n",
       "\n",
       "    .dataframe tbody tr th {\n",
       "        vertical-align: top;\n",
       "    }\n",
       "\n",
       "    .dataframe thead th {\n",
       "        text-align: right;\n",
       "    }\n",
       "</style>\n",
       "<table border=\"1\" class=\"dataframe\">\n",
       "  <thead>\n",
       "    <tr style=\"text-align: right;\">\n",
       "      <th></th>\n",
       "      <th>time_series</th>\n",
       "    </tr>\n",
       "  </thead>\n",
       "  <tbody>\n",
       "    <tr>\n",
       "      <th>0</th>\n",
       "      <td>0        32847.277\n",
       "1        32849.570\n",
       "2       ...</td>\n",
       "    </tr>\n",
       "  </tbody>\n",
       "</table>\n",
       "</div>"
      ],
      "text/plain": [
       "                                         time_series\n",
       "0  0        32847.277\n",
       "1        32849.570\n",
       "2       ..."
      ]
     },
     "execution_count": 107,
     "metadata": {
      "tags": []
     },
     "output_type": "execute_result"
    }
   ],
   "source": [
    "# to SkTime\n",
    "DF = pd.DataFrame()\n",
    "\n",
    "DF = DF.append([[flux]], ignore_index=True)\n",
    "DF.columns = ['time_series']\n",
    "\n",
    "DF.head()\n",
    "\n",
    "###############################################################################\n",
    "\n",
    "# to SKLEARN\n",
    "# DF = pd.DataFrame()\n",
    "\n",
    "# DF = DF.append(flux, ignore_index=True)\n",
    "\n",
    "# DF.head()"
   ]
  },
  {
   "cell_type": "code",
   "execution_count": null,
   "id": "judicial-thermal",
   "metadata": {
    "colab": {
     "base_uri": "https://localhost:8080/"
    },
    "executionInfo": {
     "elapsed": 405,
     "status": "ok",
     "timestamp": 1626965152517,
     "user": {
      "displayName": "Guilherme Samuel",
      "photoUrl": "https://lh3.googleusercontent.com/a-/AOh14Gi5zFr3jUWJ1NdrUB6KSy3C4B0uR2RLqUiKRzi0S2M=s64",
      "userId": "17398030156076443435"
     },
     "user_tz": 180
    },
    "id": "judicial-thermal",
    "outputId": "bd0ffc43-737d-46ff-acfc-9bf6e154e903"
   },
   "outputs": [
    {
     "data": {
      "text/plain": [
       "0        32847.277\n",
       "1        32849.570\n",
       "2        32850.133\n",
       "3        32881.668\n",
       "4        32897.824\n",
       "           ...    \n",
       "24451    33611.984\n",
       "24452    33498.582\n",
       "24453    33537.754\n",
       "24454    33552.040\n",
       "24455    33650.860\n",
       "Name: WHITEFLUX, Length: 24456, dtype: float64"
      ]
     },
     "execution_count": 108,
     "metadata": {
      "tags": []
     },
     "output_type": "execute_result"
    }
   ],
   "source": [
    "DF.iloc[0][0]"
   ]
  },
  {
   "cell_type": "markdown",
   "id": "WdVj35tht2Gy",
   "metadata": {
    "id": "WdVj35tht2Gy"
   },
   "source": [
    "# SkTime"
   ]
  },
  {
   "cell_type": "code",
   "execution_count": null,
   "id": "DBIs7k8JSLk0",
   "metadata": {
    "id": "DBIs7k8JSLk0"
   },
   "outputs": [],
   "source": [
    "import pandas as pd\n",
    "import numpy as np\n",
    "import os\n",
    "\n",
    "!pip install control\n",
    "from tools import *"
   ]
  },
  {
   "cell_type": "markdown",
   "id": "binary-weapon",
   "metadata": {
    "id": "binary-weapon"
   },
   "source": [
    "## Preprocessing data "
   ]
  },
  {
   "cell_type": "markdown",
   "id": "religious-signature",
   "metadata": {
    "id": "religious-signature"
   },
   "source": [
    "###  Creating matrix of features (CoRoT targets with confirmed exoplanets)\n"
   ]
  },
  {
   "cell_type": "code",
   "execution_count": null,
   "id": "executed-berkeley",
   "metadata": {
    "id": "executed-berkeley"
   },
   "outputs": [],
   "source": [
    "# DATA_DIR = 'C:/Users/guisa/Google Drive/01 - Iniciação Científica/02 - Datasets/csv_files'\n",
    "# DATA_DIR = '/content/drive/MyDrive/01 - Iniciação Científica/02 - Datasets/csv_files'\n",
    "DATA_DIR = '/content/drive/MyDrive/01 - Iniciação Científica/02 - Datasets/resampled_files'"
   ]
  },
  {
   "cell_type": "code",
   "execution_count": null,
   "id": "painted-stuff",
   "metadata": {
    "id": "painted-stuff"
   },
   "outputs": [],
   "source": [
    "X = pd.DataFrame()\n",
    "\n",
    "for root_dir_path, sub_dirs, files in os.walk(DATA_DIR):\n",
    "    for j in range(0, len(files)):\n",
    "        if files[j] != ('desktop.ini' and 'csv_files.rar'):\n",
    "            # File path\n",
    "            path = root_dir_path + \"/\" + files[j] \n",
    "            \n",
    "            # Reading data\n",
    "            # print(path)\n",
    "            data = pd.read_csv(path)\n",
    "            flux = data.WHITEFLUX\n",
    "            \n",
    "            # Add timeseries to pd.DataFrame\n",
    "            X = X.append([[flux]], ignore_index=True)"
   ]
  },
  {
   "cell_type": "code",
   "execution_count": null,
   "id": "acute-planner",
   "metadata": {
    "colab": {
     "base_uri": "https://localhost:8080/",
     "height": 204
    },
    "executionInfo": {
     "elapsed": 13,
     "status": "ok",
     "timestamp": 1627479907895,
     "user": {
      "displayName": "Guilherme Samuel",
      "photoUrl": "https://lh3.googleusercontent.com/a-/AOh14Gi5zFr3jUWJ1NdrUB6KSy3C4B0uR2RLqUiKRzi0S2M=s64",
      "userId": "17398030156076443435"
     },
     "user_tz": 180
    },
    "id": "acute-planner",
    "outputId": "79a1ecc1-973f-4ca2-f742-b3af72e1d6de"
   },
   "outputs": [
    {
     "data": {
      "text/html": [
       "<div>\n",
       "<style scoped>\n",
       "    .dataframe tbody tr th:only-of-type {\n",
       "        vertical-align: middle;\n",
       "    }\n",
       "\n",
       "    .dataframe tbody tr th {\n",
       "        vertical-align: top;\n",
       "    }\n",
       "\n",
       "    .dataframe thead th {\n",
       "        text-align: right;\n",
       "    }\n",
       "</style>\n",
       "<table border=\"1\" class=\"dataframe\">\n",
       "  <thead>\n",
       "    <tr style=\"text-align: right;\">\n",
       "      <th></th>\n",
       "      <th>time_series</th>\n",
       "    </tr>\n",
       "  </thead>\n",
       "  <tbody>\n",
       "    <tr>\n",
       "      <th>0</th>\n",
       "      <td>0        141157.216020\n",
       "1        141242.434636\n",
       "...</td>\n",
       "    </tr>\n",
       "    <tr>\n",
       "      <th>1</th>\n",
       "      <td>0        26051.806326\n",
       "1        26113.304520\n",
       "2 ...</td>\n",
       "    </tr>\n",
       "    <tr>\n",
       "      <th>2</th>\n",
       "      <td>0        1.298393e+06\n",
       "1        1.299550e+06\n",
       "2 ...</td>\n",
       "    </tr>\n",
       "    <tr>\n",
       "      <th>3</th>\n",
       "      <td>0        112521.329834\n",
       "1        112758.045853\n",
       "...</td>\n",
       "    </tr>\n",
       "    <tr>\n",
       "      <th>4</th>\n",
       "      <td>0        40643.684746\n",
       "1        40245.967717\n",
       "2 ...</td>\n",
       "    </tr>\n",
       "  </tbody>\n",
       "</table>\n",
       "</div>"
      ],
      "text/plain": [
       "                                         time_series\n",
       "0  0        141157.216020\n",
       "1        141242.434636\n",
       "...\n",
       "1  0        26051.806326\n",
       "1        26113.304520\n",
       "2 ...\n",
       "2  0        1.298393e+06\n",
       "1        1.299550e+06\n",
       "2 ...\n",
       "3  0        112521.329834\n",
       "1        112758.045853\n",
       "...\n",
       "4  0        40643.684746\n",
       "1        40245.967717\n",
       "2 ..."
      ]
     },
     "execution_count": 5,
     "metadata": {
      "tags": []
     },
     "output_type": "execute_result"
    }
   ],
   "source": [
    "X.columns = ['time_series']\n",
    "X.head()"
   ]
  },
  {
   "cell_type": "code",
   "execution_count": null,
   "id": "handmade-novel",
   "metadata": {
    "colab": {
     "base_uri": "https://localhost:8080/"
    },
    "executionInfo": {
     "elapsed": 12,
     "status": "ok",
     "timestamp": 1627479907896,
     "user": {
      "displayName": "Guilherme Samuel",
      "photoUrl": "https://lh3.googleusercontent.com/a-/AOh14Gi5zFr3jUWJ1NdrUB6KSy3C4B0uR2RLqUiKRzi0S2M=s64",
      "userId": "17398030156076443435"
     },
     "user_tz": 180
    },
    "id": "handmade-novel",
    "outputId": "b5b0f0e5-acc5-4e90-cfd5-52f8de7ee350"
   },
   "outputs": [
    {
     "data": {
      "text/plain": [
       "0        141157.216020\n",
       "1        141242.434636\n",
       "2        141132.564812\n",
       "3        141373.143346\n",
       "4        141213.262888\n",
       "             ...      \n",
       "15045    141147.423729\n",
       "15046    141100.943892\n",
       "15047    141378.202818\n",
       "15048    141228.656766\n",
       "15049    141309.960163\n",
       "Name: WHITEFLUX, Length: 15050, dtype: float64"
      ]
     },
     "execution_count": 6,
     "metadata": {
      "tags": []
     },
     "output_type": "execute_result"
    }
   ],
   "source": [
    "X.iloc[0][0]"
   ]
  },
  {
   "cell_type": "code",
   "execution_count": null,
   "id": "b_0eme2VjPUR",
   "metadata": {
    "colab": {
     "base_uri": "https://localhost:8080/"
    },
    "executionInfo": {
     "elapsed": 12,
     "status": "ok",
     "timestamp": 1627479907896,
     "user": {
      "displayName": "Guilherme Samuel",
      "photoUrl": "https://lh3.googleusercontent.com/a-/AOh14Gi5zFr3jUWJ1NdrUB6KSy3C4B0uR2RLqUiKRzi0S2M=s64",
      "userId": "17398030156076443435"
     },
     "user_tz": 180
    },
    "id": "b_0eme2VjPUR",
    "outputId": "ad819bf0-d7a5-4ae8-83a4-c540e8a53fca"
   },
   "outputs": [
    {
     "data": {
      "text/plain": [
       "(33, 1)"
      ]
     },
     "execution_count": 7,
     "metadata": {
      "tags": []
     },
     "output_type": "execute_result"
    }
   ],
   "source": [
    "X.shape"
   ]
  },
  {
   "cell_type": "markdown",
   "id": "resistant-twins",
   "metadata": {
    "id": "resistant-twins"
   },
   "source": [
    "### Labeling matrix of features\n",
    "\n",
    "- 0: confirmed_exoplanets\n",
    "- 1: eclipsing_binaries\n",
    "- 2: none"
   ]
  },
  {
   "cell_type": "code",
   "execution_count": null,
   "id": "union-aircraft",
   "metadata": {
    "colab": {
     "base_uri": "https://localhost:8080/"
    },
    "executionInfo": {
     "elapsed": 12,
     "status": "ok",
     "timestamp": 1627479907897,
     "user": {
      "displayName": "Guilherme Samuel",
      "photoUrl": "https://lh3.googleusercontent.com/a-/AOh14Gi5zFr3jUWJ1NdrUB6KSy3C4B0uR2RLqUiKRzi0S2M=s64",
      "userId": "17398030156076443435"
     },
     "user_tz": 180
    },
    "id": "union-aircraft",
    "outputId": "3eb96d25-e581-4aa1-cd61-7ab19985fdb0"
   },
   "outputs": [
    {
     "data": {
      "text/plain": [
       "array([0, 0, 0, 0, 0, 0, 0, 0, 0, 0, 0, 0, 0, 0, 0, 0, 0, 0, 0, 0, 0, 0,\n",
       "       0, 0, 0, 0, 0, 0, 0, 0, 0, 0, 0])"
      ]
     },
     "execution_count": 8,
     "metadata": {
      "tags": []
     },
     "output_type": "execute_result"
    }
   ],
   "source": [
    "labels = np.zeros(X.size, dtype='int')\n",
    "labels"
   ]
  },
  {
   "cell_type": "code",
   "execution_count": null,
   "id": "advance-monitor",
   "metadata": {
    "colab": {
     "base_uri": "https://localhost:8080/"
    },
    "executionInfo": {
     "elapsed": 11,
     "status": "ok",
     "timestamp": 1627479907897,
     "user": {
      "displayName": "Guilherme Samuel",
      "photoUrl": "https://lh3.googleusercontent.com/a-/AOh14Gi5zFr3jUWJ1NdrUB6KSy3C4B0uR2RLqUiKRzi0S2M=s64",
      "userId": "17398030156076443435"
     },
     "user_tz": 180
    },
    "id": "advance-monitor",
    "outputId": "69aa9377-368f-4d3e-e44c-9f91cf638c24"
   },
   "outputs": [
    {
     "data": {
      "text/plain": [
       "0    0\n",
       "1    0\n",
       "2    0\n",
       "3    0\n",
       "4    0\n",
       "dtype: int64"
      ]
     },
     "execution_count": 9,
     "metadata": {
      "tags": []
     },
     "output_type": "execute_result"
    }
   ],
   "source": [
    "y = pd.Series(labels)\n",
    "y.head()"
   ]
  },
  {
   "cell_type": "code",
   "execution_count": null,
   "id": "FqIqFEPqjXSM",
   "metadata": {
    "colab": {
     "base_uri": "https://localhost:8080/"
    },
    "executionInfo": {
     "elapsed": 11,
     "status": "ok",
     "timestamp": 1627479907898,
     "user": {
      "displayName": "Guilherme Samuel",
      "photoUrl": "https://lh3.googleusercontent.com/a-/AOh14Gi5zFr3jUWJ1NdrUB6KSy3C4B0uR2RLqUiKRzi0S2M=s64",
      "userId": "17398030156076443435"
     },
     "user_tz": 180
    },
    "id": "FqIqFEPqjXSM",
    "outputId": "4c32b180-ed61-477d-d5fe-2aba7d691df3"
   },
   "outputs": [
    {
     "data": {
      "text/plain": [
       "(33,)"
      ]
     },
     "execution_count": 10,
     "metadata": {
      "tags": []
     },
     "output_type": "execute_result"
    }
   ],
   "source": [
    "y.shape"
   ]
  },
  {
   "cell_type": "markdown",
   "id": "chemical-booth",
   "metadata": {
    "id": "chemical-booth"
   },
   "source": [
    "### Creating dataset, X and y"
   ]
  },
  {
   "cell_type": "code",
   "execution_count": null,
   "id": "stretch-master",
   "metadata": {
    "colab": {
     "base_uri": "https://localhost:8080/",
     "height": 204
    },
    "executionInfo": {
     "elapsed": 10,
     "status": "ok",
     "timestamp": 1627479907898,
     "user": {
      "displayName": "Guilherme Samuel",
      "photoUrl": "https://lh3.googleusercontent.com/a-/AOh14Gi5zFr3jUWJ1NdrUB6KSy3C4B0uR2RLqUiKRzi0S2M=s64",
      "userId": "17398030156076443435"
     },
     "user_tz": 180
    },
    "id": "stretch-master",
    "outputId": "7c9462aa-478e-4c06-a89b-8a9c332a1126"
   },
   "outputs": [
    {
     "data": {
      "text/html": [
       "<div>\n",
       "<style scoped>\n",
       "    .dataframe tbody tr th:only-of-type {\n",
       "        vertical-align: middle;\n",
       "    }\n",
       "\n",
       "    .dataframe tbody tr th {\n",
       "        vertical-align: top;\n",
       "    }\n",
       "\n",
       "    .dataframe thead th {\n",
       "        text-align: right;\n",
       "    }\n",
       "</style>\n",
       "<table border=\"1\" class=\"dataframe\">\n",
       "  <thead>\n",
       "    <tr style=\"text-align: right;\">\n",
       "      <th></th>\n",
       "      <th>time_series</th>\n",
       "      <th>label</th>\n",
       "    </tr>\n",
       "  </thead>\n",
       "  <tbody>\n",
       "    <tr>\n",
       "      <th>0</th>\n",
       "      <td>0        141157.216020\n",
       "1        141242.434636\n",
       "...</td>\n",
       "      <td>0</td>\n",
       "    </tr>\n",
       "    <tr>\n",
       "      <th>1</th>\n",
       "      <td>0        26051.806326\n",
       "1        26113.304520\n",
       "2 ...</td>\n",
       "      <td>0</td>\n",
       "    </tr>\n",
       "    <tr>\n",
       "      <th>2</th>\n",
       "      <td>0        1.298393e+06\n",
       "1        1.299550e+06\n",
       "2 ...</td>\n",
       "      <td>0</td>\n",
       "    </tr>\n",
       "    <tr>\n",
       "      <th>3</th>\n",
       "      <td>0        112521.329834\n",
       "1        112758.045853\n",
       "...</td>\n",
       "      <td>0</td>\n",
       "    </tr>\n",
       "    <tr>\n",
       "      <th>4</th>\n",
       "      <td>0        40643.684746\n",
       "1        40245.967717\n",
       "2 ...</td>\n",
       "      <td>0</td>\n",
       "    </tr>\n",
       "  </tbody>\n",
       "</table>\n",
       "</div>"
      ],
      "text/plain": [
       "                                         time_series  label\n",
       "0  0        141157.216020\n",
       "1        141242.434636\n",
       "...      0\n",
       "1  0        26051.806326\n",
       "1        26113.304520\n",
       "2 ...      0\n",
       "2  0        1.298393e+06\n",
       "1        1.299550e+06\n",
       "2 ...      0\n",
       "3  0        112521.329834\n",
       "1        112758.045853\n",
       "...      0\n",
       "4  0        40643.684746\n",
       "1        40245.967717\n",
       "2 ...      0"
      ]
     },
     "execution_count": 11,
     "metadata": {
      "tags": []
     },
     "output_type": "execute_result"
    }
   ],
   "source": [
    "# Creating pd.DataFrame with X data, and setted columns\n",
    "df = pd.DataFrame(X, columns=['time_series', 'label'])\n",
    "\n",
    "# Adding labels\n",
    "df.label = y\n",
    "\n",
    "df.head()"
   ]
  },
  {
   "cell_type": "markdown",
   "id": "xNUBpqqejdGF",
   "metadata": {
    "id": "xNUBpqqejdGF"
   },
   "source": [
    "How many Labels we got ?"
   ]
  },
  {
   "cell_type": "code",
   "execution_count": null,
   "id": "legislative-titanium",
   "metadata": {
    "colab": {
     "base_uri": "https://localhost:8080/"
    },
    "executionInfo": {
     "elapsed": 10,
     "status": "ok",
     "timestamp": 1627479907899,
     "user": {
      "displayName": "Guilherme Samuel",
      "photoUrl": "https://lh3.googleusercontent.com/a-/AOh14Gi5zFr3jUWJ1NdrUB6KSy3C4B0uR2RLqUiKRzi0S2M=s64",
      "userId": "17398030156076443435"
     },
     "user_tz": 180
    },
    "id": "legislative-titanium",
    "outputId": "1eb1cbed-830d-4be8-ac78-3c74e302b7e1"
   },
   "outputs": [
    {
     "name": "stdout",
     "output_type": "stream",
     "text": [
      "Labels = [0] \n",
      "Counts = [33]\n"
     ]
    }
   ],
   "source": [
    "labels, counts = np.unique(y, return_counts=True)\n",
    "print('Labels =', labels, '\\nCounts =', counts)"
   ]
  },
  {
   "cell_type": "markdown",
   "id": "worst-writing",
   "metadata": {
    "id": "worst-writing"
   },
   "source": [
    "## Machine Learning - SkTime\n",
    "\n",
    "https://github.com/alan-turing-institute/sktime/tree/v0.4.3\n",
    "\n",
    "https://github.com/alan-turing-institute/sktime/blob/main/sktime/classification/compose/__init__.py"
   ]
  },
  {
   "cell_type": "markdown",
   "id": "moving-assets",
   "metadata": {
    "id": "moving-assets"
   },
   "source": [
    "### **Preliminaries**"
   ]
  },
  {
   "cell_type": "code",
   "execution_count": null,
   "id": "israeli-trial",
   "metadata": {
    "id": "israeli-trial"
   },
   "outputs": [],
   "source": [
    "# !pip install sktime[all_extras]"
   ]
  },
  {
   "cell_type": "markdown",
   "id": "IpYxnP-nrxeh",
   "metadata": {
    "id": "IpYxnP-nrxeh"
   },
   "source": [
    "### **Splitting the dataset into the Training set and Test set**"
   ]
  },
  {
   "cell_type": "code",
   "execution_count": null,
   "id": "fifteen-croatia",
   "metadata": {
    "colab": {
     "base_uri": "https://localhost:8080/"
    },
    "executionInfo": {
     "elapsed": 203,
     "status": "ok",
     "timestamp": 1627479912014,
     "user": {
      "displayName": "Guilherme Samuel",
      "photoUrl": "https://lh3.googleusercontent.com/a-/AOh14Gi5zFr3jUWJ1NdrUB6KSy3C4B0uR2RLqUiKRzi0S2M=s64",
      "userId": "17398030156076443435"
     },
     "user_tz": 180
    },
    "id": "fifteen-croatia",
    "outputId": "a58f7d30-6906-42c2-fc14-4d04601379e2"
   },
   "outputs": [
    {
     "name": "stdout",
     "output_type": "stream",
     "text": [
      "(24, 1) (24,) (9, 1) (9,)\n"
     ]
    }
   ],
   "source": [
    "from sklearn.model_selection import train_test_split\n",
    "\n",
    "X_train, X_test, y_train, y_test = train_test_split(X, y, test_size=0.25, shuffle=True, random_state=42)\n",
    "\n",
    "print(X_train.shape, y_train.shape, X_test.shape, y_test.shape)"
   ]
  },
  {
   "cell_type": "markdown",
   "id": "violent-drive",
   "metadata": {
    "id": "violent-drive"
   },
   "source": [
    "### **Time Series Classification**\n",
    "\n",
    "\n",
    "https://towardsdatascience.com/sktime-a-unified-python-library-for-time-series-machine-learning-3c103c139a55"
   ]
  },
  {
   "cell_type": "code",
   "execution_count": null,
   "id": "hGTpxCzyocnE",
   "metadata": {
    "colab": {
     "base_uri": "https://localhost:8080/"
    },
    "executionInfo": {
     "elapsed": 23927,
     "status": "ok",
     "timestamp": 1627479941173,
     "user": {
      "displayName": "Guilherme Samuel",
      "photoUrl": "https://lh3.googleusercontent.com/a-/AOh14Gi5zFr3jUWJ1NdrUB6KSy3C4B0uR2RLqUiKRzi0S2M=s64",
      "userId": "17398030156076443435"
     },
     "user_tz": 180
    },
    "id": "hGTpxCzyocnE",
    "outputId": "735ee54f-b78b-46ae-dcef-0ca6288dd45a"
   },
   "outputs": [
    {
     "data": {
      "text/plain": [
       "TimeSeriesForestClassifier()"
      ]
     },
     "execution_count": 14,
     "metadata": {
      "tags": []
     },
     "output_type": "execute_result"
    }
   ],
   "source": [
    "from sktime.classification.all import TimeSeriesForestClassifier\n",
    "\n",
    "classifier = TimeSeriesForestClassifier()\n",
    "classifier.fit(X_train, y_train)"
   ]
  },
  {
   "cell_type": "code",
   "execution_count": null,
   "id": "grvjyZc2oclP",
   "metadata": {
    "colab": {
     "base_uri": "https://localhost:8080/"
    },
    "executionInfo": {
     "elapsed": 11570,
     "status": "ok",
     "timestamp": 1627479956333,
     "user": {
      "displayName": "Guilherme Samuel",
      "photoUrl": "https://lh3.googleusercontent.com/a-/AOh14Gi5zFr3jUWJ1NdrUB6KSy3C4B0uR2RLqUiKRzi0S2M=s64",
      "userId": "17398030156076443435"
     },
     "user_tz": 180
    },
    "id": "grvjyZc2oclP",
    "outputId": "dd301e3a-9da0-411a-aa02-7ee44ab73a1c"
   },
   "outputs": [
    {
     "data": {
      "text/plain": [
       "1.0"
      ]
     },
     "execution_count": 15,
     "metadata": {
      "tags": []
     },
     "output_type": "execute_result"
    }
   ],
   "source": [
    "from sklearn.metrics import accuracy_score\n",
    "\n",
    "y_pred = classifier.predict(X_test)\n",
    "accuracy_score(y_test, y_pred)"
   ]
  },
  {
   "cell_type": "code",
   "execution_count": null,
   "id": "RcxJwPtJsKfR",
   "metadata": {
    "id": "RcxJwPtJsKfR"
   },
   "outputs": [],
   "source": []
  },
  {
   "cell_type": "code",
   "execution_count": null,
   "id": "2XqI2r0AsKco",
   "metadata": {
    "id": "2XqI2r0AsKco"
   },
   "outputs": [],
   "source": []
  },
  {
   "cell_type": "markdown",
   "id": "PnLTVE6SXwAD",
   "metadata": {
    "id": "PnLTVE6SXwAD"
   },
   "source": [
    "### **Feature extraction**"
   ]
  },
  {
   "cell_type": "code",
   "execution_count": null,
   "id": "yyhSqsYWZCE8",
   "metadata": {
    "id": "yyhSqsYWZCE8"
   },
   "outputs": [],
   "source": [
    "import warnings\n",
    "warnings.filterwarnings('ignore', 'statsmodels.tsa.ar_model.AR', FutureWarning)"
   ]
  },
  {
   "cell_type": "code",
   "execution_count": null,
   "id": "G65-k7l5Xzio",
   "metadata": {
    "colab": {
     "base_uri": "https://localhost:8080/",
     "height": 292
    },
    "executionInfo": {
     "elapsed": 2533,
     "status": "ok",
     "timestamp": 1627480988853,
     "user": {
      "displayName": "Guilherme Samuel",
      "photoUrl": "https://lh3.googleusercontent.com/a-/AOh14Gi5zFr3jUWJ1NdrUB6KSy3C4B0uR2RLqUiKRzi0S2M=s64",
      "userId": "17398030156076443435"
     },
     "user_tz": 180
    },
    "id": "G65-k7l5Xzio",
    "outputId": "4d51bb3a-e1d6-41a3-b499-d613463cabe1"
   },
   "outputs": [
    {
     "name": "stderr",
     "output_type": "stream",
     "text": [
      "\n",
      "Feature Extraction:   0%|          | 0/5 [00:00<?, ?it/s]\u001b[A\n",
      "Feature Extraction:  20%|██        | 1/5 [00:00<00:00,  7.32it/s]\u001b[A\n",
      "Feature Extraction: 100%|██████████| 5/5 [00:00<00:00, 18.29it/s]\n"
     ]
    },
    {
     "data": {
      "text/html": [
       "<div>\n",
       "<style scoped>\n",
       "    .dataframe tbody tr th:only-of-type {\n",
       "        vertical-align: middle;\n",
       "    }\n",
       "\n",
       "    .dataframe tbody tr th {\n",
       "        vertical-align: top;\n",
       "    }\n",
       "\n",
       "    .dataframe thead th {\n",
       "        text-align: right;\n",
       "    }\n",
       "</style>\n",
       "<table border=\"1\" class=\"dataframe\">\n",
       "  <thead>\n",
       "    <tr style=\"text-align: right;\">\n",
       "      <th></th>\n",
       "      <th>time_series__sum_values</th>\n",
       "      <th>time_series__median</th>\n",
       "      <th>time_series__mean</th>\n",
       "      <th>time_series__length</th>\n",
       "      <th>time_series__standard_deviation</th>\n",
       "      <th>time_series__variance</th>\n",
       "      <th>time_series__root_mean_square</th>\n",
       "      <th>time_series__maximum</th>\n",
       "      <th>time_series__minimum</th>\n",
       "    </tr>\n",
       "  </thead>\n",
       "  <tbody>\n",
       "    <tr>\n",
       "      <th>0</th>\n",
       "      <td>2.124862e+09</td>\n",
       "      <td>141218.330072</td>\n",
       "      <td>141186.836848</td>\n",
       "      <td>15050.0</td>\n",
       "      <td>282.683706</td>\n",
       "      <td>79910.077814</td>\n",
       "      <td>141187.119841</td>\n",
       "      <td>142021.360654</td>\n",
       "      <td>138999.945791</td>\n",
       "    </tr>\n",
       "    <tr>\n",
       "      <th>4</th>\n",
       "      <td>6.136100e+08</td>\n",
       "      <td>40704.273331</td>\n",
       "      <td>40771.427763</td>\n",
       "      <td>15050.0</td>\n",
       "      <td>560.265206</td>\n",
       "      <td>313897.101078</td>\n",
       "      <td>40775.277055</td>\n",
       "      <td>44921.695568</td>\n",
       "      <td>39239.685767</td>\n",
       "    </tr>\n",
       "    <tr>\n",
       "      <th>16</th>\n",
       "      <td>6.258849e+08</td>\n",
       "      <td>41653.547836</td>\n",
       "      <td>41587.034197</td>\n",
       "      <td>15050.0</td>\n",
       "      <td>364.389989</td>\n",
       "      <td>132780.064141</td>\n",
       "      <td>41588.630578</td>\n",
       "      <td>42472.076073</td>\n",
       "      <td>40477.653465</td>\n",
       "    </tr>\n",
       "    <tr>\n",
       "      <th>5</th>\n",
       "      <td>4.512183e+09</td>\n",
       "      <td>299686.539820</td>\n",
       "      <td>299812.826420</td>\n",
       "      <td>15050.0</td>\n",
       "      <td>613.298072</td>\n",
       "      <td>376134.525086</td>\n",
       "      <td>299813.453701</td>\n",
       "      <td>302311.608084</td>\n",
       "      <td>297465.565232</td>\n",
       "    </tr>\n",
       "    <tr>\n",
       "      <th>13</th>\n",
       "      <td>5.857504e+08</td>\n",
       "      <td>38822.561668</td>\n",
       "      <td>38920.292034</td>\n",
       "      <td>15050.0</td>\n",
       "      <td>553.820584</td>\n",
       "      <td>306717.239608</td>\n",
       "      <td>38924.232160</td>\n",
       "      <td>40531.501716</td>\n",
       "      <td>37855.665849</td>\n",
       "    </tr>\n",
       "  </tbody>\n",
       "</table>\n",
       "</div>"
      ],
      "text/plain": [
       "    time_series__sum_values  ...  time_series__minimum\n",
       "0              2.124862e+09  ...         138999.945791\n",
       "4              6.136100e+08  ...          39239.685767\n",
       "16             6.258849e+08  ...          40477.653465\n",
       "5              4.512183e+09  ...         297465.565232\n",
       "13             5.857504e+08  ...          37855.665849\n",
       "\n",
       "[5 rows x 9 columns]"
      ]
     },
     "execution_count": 29,
     "metadata": {
      "tags": []
     },
     "output_type": "execute_result"
    }
   ],
   "source": [
    "from sktime.transformations.panel.tsfresh import TSFreshFeatureExtractor\n",
    "\n",
    "transformer = TSFreshFeatureExtractor(default_fc_parameters=\"minimal\")\n",
    "\n",
    "extracted_features = transformer.fit_transform(X_train)\n",
    "extracted_features.head()"
   ]
  },
  {
   "cell_type": "code",
   "execution_count": null,
   "id": "eEF2cdRyYRJR",
   "metadata": {
    "colab": {
     "base_uri": "https://localhost:8080/"
    },
    "executionInfo": {
     "elapsed": 196,
     "status": "ok",
     "timestamp": 1627480251663,
     "user": {
      "displayName": "Guilherme Samuel",
      "photoUrl": "https://lh3.googleusercontent.com/a-/AOh14Gi5zFr3jUWJ1NdrUB6KSy3C4B0uR2RLqUiKRzi0S2M=s64",
      "userId": "17398030156076443435"
     },
     "user_tz": 180
    },
    "id": "eEF2cdRyYRJR",
    "outputId": "0ae90e54-4143-42c1-a92c-2b804f73d702"
   },
   "outputs": [
    {
     "data": {
      "text/plain": [
       "1"
      ]
     },
     "execution_count": 25,
     "metadata": {
      "tags": []
     },
     "output_type": "execute_result"
    }
   ],
   "source": [
    "# If the result is 1, it means that the entire dataset has de same lenght\n",
    "\n",
    "extracted_features.time_series__length.nunique()"
   ]
  },
  {
   "cell_type": "markdown",
   "id": "hMIV41AtbVhu",
   "metadata": {
    "id": "hMIV41AtbVhu"
   },
   "source": [
    "### **Time Series Classification with Feature Extraction**"
   ]
  },
  {
   "cell_type": "code",
   "execution_count": null,
   "id": "rzX0QMIvbZmT",
   "metadata": {
    "colab": {
     "base_uri": "https://localhost:8080/"
    },
    "executionInfo": {
     "elapsed": 644172,
     "status": "ok",
     "timestamp": 1627481706554,
     "user": {
      "displayName": "Guilherme Samuel",
      "photoUrl": "https://lh3.googleusercontent.com/a-/AOh14Gi5zFr3jUWJ1NdrUB6KSy3C4B0uR2RLqUiKRzi0S2M=s64",
      "userId": "17398030156076443435"
     },
     "user_tz": 180
    },
    "id": "rzX0QMIvbZmT",
    "outputId": "7615257e-4677-455f-9729-81d9027fd21e"
   },
   "outputs": [
    {
     "name": "stderr",
     "output_type": "stream",
     "text": [
      "\n",
      "Feature Extraction:   0%|          | 0/5 [00:00<?, ?it/s]\u001b[A\n",
      "Feature Extraction:  20%|██        | 1/5 [01:28<05:53, 88.44s/it]\u001b[A\n",
      "Feature Extraction:  40%|████      | 2/5 [03:13<04:40, 93.37s/it]\u001b[A\n",
      "Feature Extraction:  60%|██████    | 3/5 [04:51<03:09, 94.94s/it]\u001b[A\n",
      "Feature Extraction:  80%|████████  | 4/5 [06:30<01:36, 96.16s/it]\u001b[A\n",
      "Feature Extraction: 100%|██████████| 5/5 [07:48<00:00, 93.60s/it]\n",
      "\n",
      "Feature Extraction:   0%|          | 0/5 [00:00<?, ?it/s]\u001b[A\n",
      "Feature Extraction:  20%|██        | 1/5 [00:45<03:02, 45.55s/it]\u001b[A\n",
      "Feature Extraction:  40%|████      | 2/5 [01:17<02:03, 41.33s/it]\u001b[A\n",
      "Feature Extraction:  60%|██████    | 3/5 [01:52<01:18, 39.44s/it]\u001b[A\n",
      "Feature Extraction:  80%|████████  | 4/5 [02:32<00:39, 39.77s/it]\u001b[A\n",
      "Feature Extraction: 100%|██████████| 5/5 [02:50<00:00, 34.17s/it]\n"
     ]
    },
    {
     "data": {
      "text/plain": [
       "1.0"
      ]
     },
     "execution_count": 32,
     "metadata": {
      "tags": []
     },
     "output_type": "execute_result"
    }
   ],
   "source": [
    "from sklearn.pipeline import make_pipeline\n",
    "from sklearn.ensemble import RandomForestClassifier\n",
    "\n",
    "classifier = make_pipeline(\n",
    "    TSFreshFeatureExtractor(show_warnings=False), RandomForestClassifier()\n",
    ")\n",
    "classifier.fit(X_train, y_train)\n",
    "classifier.score(X_test, y_test)"
   ]
  },
  {
   "cell_type": "markdown",
   "id": "6T4d__LluBrg",
   "metadata": {
    "id": "6T4d__LluBrg"
   },
   "source": [
    "# SkLearn"
   ]
  },
  {
   "cell_type": "code",
   "execution_count": null,
   "id": "pWhonQMUVLb_",
   "metadata": {
    "id": "pWhonQMUVLb_"
   },
   "outputs": [],
   "source": [
    "import pandas as pd\n",
    "import numpy as np\n",
    "import os\n",
    "\n",
    "!pip install control\n",
    "from tools import *"
   ]
  },
  {
   "cell_type": "markdown",
   "id": "s36bbmFYsW7d",
   "metadata": {
    "id": "s36bbmFYsW7d"
   },
   "source": [
    "## Preprocessing data"
   ]
  },
  {
   "cell_type": "markdown",
   "id": "lD-jfN-Fs8NB",
   "metadata": {
    "id": "lD-jfN-Fs8NB"
   },
   "source": [
    "###  Creating matrix of features (CoRoT targets with confirmed exoplanets)\n"
   ]
  },
  {
   "cell_type": "code",
   "execution_count": null,
   "id": "iKyA5VAgs8NB",
   "metadata": {
    "id": "iKyA5VAgs8NB"
   },
   "outputs": [],
   "source": [
    "# DATA_DIR = 'C:/Users/guisa/Google Drive/01 - Iniciação Científica/02 - Datasets/csv_files'\n",
    "# DATA_DIR = '/content/drive/MyDrive/01 - Iniciação Científica/02 - Datasets/csv_files'\n",
    "DATA_DIR = '/content/drive/MyDrive/01 - Iniciação Científica/02 - Datasets/resampled_files'"
   ]
  },
  {
   "cell_type": "code",
   "execution_count": null,
   "id": "YTAJTcjWs8NC",
   "metadata": {
    "id": "YTAJTcjWs8NC"
   },
   "outputs": [],
   "source": [
    "X = pd.DataFrame()\n",
    "\n",
    "for root_dir_path, sub_dirs, files in os.walk(DATA_DIR):\n",
    "    for j in range(0, len(files)):\n",
    "        if files[j] != ('desktop.ini' and 'csv_files.rar'):\n",
    "            # File path\n",
    "            path = root_dir_path + \"/\" + files[j] \n",
    "            \n",
    "            # Reading data\n",
    "            # print(path)\n",
    "            data = pd.read_csv(path)\n",
    "            flux = data.WHITEFLUX\n",
    "            \n",
    "            # Add timeseries to pd.DataFrame\n",
    "            X = X.append(flux, ignore_index=True)"
   ]
  },
  {
   "cell_type": "code",
   "execution_count": null,
   "id": "nfV8sCZMs8NC",
   "metadata": {
    "colab": {
     "base_uri": "https://localhost:8080/",
     "height": 253
    },
    "executionInfo": {
     "elapsed": 370,
     "status": "ok",
     "timestamp": 1627479405707,
     "user": {
      "displayName": "Guilherme Samuel",
      "photoUrl": "https://lh3.googleusercontent.com/a-/AOh14Gi5zFr3jUWJ1NdrUB6KSy3C4B0uR2RLqUiKRzi0S2M=s64",
      "userId": "17398030156076443435"
     },
     "user_tz": 180
    },
    "id": "nfV8sCZMs8NC",
    "outputId": "d7ee31e9-33ba-4106-fd9b-2630292c0317"
   },
   "outputs": [
    {
     "data": {
      "text/html": [
       "<div>\n",
       "<style scoped>\n",
       "    .dataframe tbody tr th:only-of-type {\n",
       "        vertical-align: middle;\n",
       "    }\n",
       "\n",
       "    .dataframe tbody tr th {\n",
       "        vertical-align: top;\n",
       "    }\n",
       "\n",
       "    .dataframe thead th {\n",
       "        text-align: right;\n",
       "    }\n",
       "</style>\n",
       "<table border=\"1\" class=\"dataframe\">\n",
       "  <thead>\n",
       "    <tr style=\"text-align: right;\">\n",
       "      <th></th>\n",
       "      <th>0</th>\n",
       "      <th>1</th>\n",
       "      <th>2</th>\n",
       "      <th>3</th>\n",
       "      <th>4</th>\n",
       "      <th>5</th>\n",
       "      <th>6</th>\n",
       "      <th>7</th>\n",
       "      <th>8</th>\n",
       "      <th>9</th>\n",
       "      <th>10</th>\n",
       "      <th>11</th>\n",
       "      <th>12</th>\n",
       "      <th>13</th>\n",
       "      <th>14</th>\n",
       "      <th>15</th>\n",
       "      <th>16</th>\n",
       "      <th>17</th>\n",
       "      <th>18</th>\n",
       "      <th>19</th>\n",
       "      <th>20</th>\n",
       "      <th>21</th>\n",
       "      <th>22</th>\n",
       "      <th>23</th>\n",
       "      <th>24</th>\n",
       "      <th>25</th>\n",
       "      <th>26</th>\n",
       "      <th>27</th>\n",
       "      <th>28</th>\n",
       "      <th>29</th>\n",
       "      <th>30</th>\n",
       "      <th>31</th>\n",
       "      <th>32</th>\n",
       "      <th>33</th>\n",
       "      <th>34</th>\n",
       "      <th>35</th>\n",
       "      <th>36</th>\n",
       "      <th>37</th>\n",
       "      <th>38</th>\n",
       "      <th>39</th>\n",
       "      <th>...</th>\n",
       "      <th>15010</th>\n",
       "      <th>15011</th>\n",
       "      <th>15012</th>\n",
       "      <th>15013</th>\n",
       "      <th>15014</th>\n",
       "      <th>15015</th>\n",
       "      <th>15016</th>\n",
       "      <th>15017</th>\n",
       "      <th>15018</th>\n",
       "      <th>15019</th>\n",
       "      <th>15020</th>\n",
       "      <th>15021</th>\n",
       "      <th>15022</th>\n",
       "      <th>15023</th>\n",
       "      <th>15024</th>\n",
       "      <th>15025</th>\n",
       "      <th>15026</th>\n",
       "      <th>15027</th>\n",
       "      <th>15028</th>\n",
       "      <th>15029</th>\n",
       "      <th>15030</th>\n",
       "      <th>15031</th>\n",
       "      <th>15032</th>\n",
       "      <th>15033</th>\n",
       "      <th>15034</th>\n",
       "      <th>15035</th>\n",
       "      <th>15036</th>\n",
       "      <th>15037</th>\n",
       "      <th>15038</th>\n",
       "      <th>15039</th>\n",
       "      <th>15040</th>\n",
       "      <th>15041</th>\n",
       "      <th>15042</th>\n",
       "      <th>15043</th>\n",
       "      <th>15044</th>\n",
       "      <th>15045</th>\n",
       "      <th>15046</th>\n",
       "      <th>15047</th>\n",
       "      <th>15048</th>\n",
       "      <th>15049</th>\n",
       "    </tr>\n",
       "  </thead>\n",
       "  <tbody>\n",
       "    <tr>\n",
       "      <th>0</th>\n",
       "      <td>1.411572e+05</td>\n",
       "      <td>1.412424e+05</td>\n",
       "      <td>1.411326e+05</td>\n",
       "      <td>1.413731e+05</td>\n",
       "      <td>1.412133e+05</td>\n",
       "      <td>1.413579e+05</td>\n",
       "      <td>1.411959e+05</td>\n",
       "      <td>1.412497e+05</td>\n",
       "      <td>1.413829e+05</td>\n",
       "      <td>1.414096e+05</td>\n",
       "      <td>1.412703e+05</td>\n",
       "      <td>1.412327e+05</td>\n",
       "      <td>1.411492e+05</td>\n",
       "      <td>1.412873e+05</td>\n",
       "      <td>1.412144e+05</td>\n",
       "      <td>1.411442e+05</td>\n",
       "      <td>1.412001e+05</td>\n",
       "      <td>1.412225e+05</td>\n",
       "      <td>1.413235e+05</td>\n",
       "      <td>1.412076e+05</td>\n",
       "      <td>1.411856e+05</td>\n",
       "      <td>1.411647e+05</td>\n",
       "      <td>1.412128e+05</td>\n",
       "      <td>1.413366e+05</td>\n",
       "      <td>1.412635e+05</td>\n",
       "      <td>1.413088e+05</td>\n",
       "      <td>1.413307e+05</td>\n",
       "      <td>1.411438e+05</td>\n",
       "      <td>1.412988e+05</td>\n",
       "      <td>1.411502e+05</td>\n",
       "      <td>1.411364e+05</td>\n",
       "      <td>1.414083e+05</td>\n",
       "      <td>1.410876e+05</td>\n",
       "      <td>1.411729e+05</td>\n",
       "      <td>1.412924e+05</td>\n",
       "      <td>1.413673e+05</td>\n",
       "      <td>1.412330e+05</td>\n",
       "      <td>1.411206e+05</td>\n",
       "      <td>1.413310e+05</td>\n",
       "      <td>1.411721e+05</td>\n",
       "      <td>...</td>\n",
       "      <td>1.411859e+05</td>\n",
       "      <td>1.411025e+05</td>\n",
       "      <td>1.410474e+05</td>\n",
       "      <td>1.411354e+05</td>\n",
       "      <td>1.411319e+05</td>\n",
       "      <td>1.412317e+05</td>\n",
       "      <td>1.411159e+05</td>\n",
       "      <td>1.412205e+05</td>\n",
       "      <td>1.411621e+05</td>\n",
       "      <td>1.411025e+05</td>\n",
       "      <td>1.412063e+05</td>\n",
       "      <td>1.411235e+05</td>\n",
       "      <td>1.411927e+05</td>\n",
       "      <td>1.412480e+05</td>\n",
       "      <td>1.412074e+05</td>\n",
       "      <td>1.411396e+05</td>\n",
       "      <td>1.411576e+05</td>\n",
       "      <td>1.410457e+05</td>\n",
       "      <td>1.411399e+05</td>\n",
       "      <td>1.408885e+05</td>\n",
       "      <td>1.409958e+05</td>\n",
       "      <td>1.411260e+05</td>\n",
       "      <td>1.411951e+05</td>\n",
       "      <td>1.411575e+05</td>\n",
       "      <td>1.411057e+05</td>\n",
       "      <td>1.411124e+05</td>\n",
       "      <td>1.412933e+05</td>\n",
       "      <td>1.411076e+05</td>\n",
       "      <td>1.410541e+05</td>\n",
       "      <td>1.411741e+05</td>\n",
       "      <td>1.409121e+05</td>\n",
       "      <td>1.409989e+05</td>\n",
       "      <td>1.412270e+05</td>\n",
       "      <td>1.411838e+05</td>\n",
       "      <td>1.413012e+05</td>\n",
       "      <td>1.411474e+05</td>\n",
       "      <td>1.411009e+05</td>\n",
       "      <td>1.413782e+05</td>\n",
       "      <td>1.412287e+05</td>\n",
       "      <td>1.413100e+05</td>\n",
       "    </tr>\n",
       "    <tr>\n",
       "      <th>1</th>\n",
       "      <td>2.605181e+04</td>\n",
       "      <td>2.611330e+04</td>\n",
       "      <td>2.601663e+04</td>\n",
       "      <td>2.614152e+04</td>\n",
       "      <td>2.587125e+04</td>\n",
       "      <td>2.587146e+04</td>\n",
       "      <td>2.602901e+04</td>\n",
       "      <td>2.604010e+04</td>\n",
       "      <td>2.611140e+04</td>\n",
       "      <td>2.607349e+04</td>\n",
       "      <td>2.612061e+04</td>\n",
       "      <td>2.601961e+04</td>\n",
       "      <td>2.608381e+04</td>\n",
       "      <td>2.615512e+04</td>\n",
       "      <td>2.605209e+04</td>\n",
       "      <td>2.615393e+04</td>\n",
       "      <td>2.595893e+04</td>\n",
       "      <td>2.613356e+04</td>\n",
       "      <td>2.608572e+04</td>\n",
       "      <td>2.604287e+04</td>\n",
       "      <td>2.609076e+04</td>\n",
       "      <td>2.603981e+04</td>\n",
       "      <td>2.604673e+04</td>\n",
       "      <td>2.605018e+04</td>\n",
       "      <td>2.605711e+04</td>\n",
       "      <td>2.603637e+04</td>\n",
       "      <td>2.602297e+04</td>\n",
       "      <td>2.610288e+04</td>\n",
       "      <td>2.599291e+04</td>\n",
       "      <td>2.599706e+04</td>\n",
       "      <td>2.596696e+04</td>\n",
       "      <td>2.610334e+04</td>\n",
       "      <td>2.616852e+04</td>\n",
       "      <td>2.615221e+04</td>\n",
       "      <td>2.600709e+04</td>\n",
       "      <td>2.604340e+04</td>\n",
       "      <td>2.602915e+04</td>\n",
       "      <td>2.623798e+04</td>\n",
       "      <td>2.596439e+04</td>\n",
       "      <td>2.610146e+04</td>\n",
       "      <td>...</td>\n",
       "      <td>2.621469e+04</td>\n",
       "      <td>2.632878e+04</td>\n",
       "      <td>2.624308e+04</td>\n",
       "      <td>2.622704e+04</td>\n",
       "      <td>2.618278e+04</td>\n",
       "      <td>2.624397e+04</td>\n",
       "      <td>2.632099e+04</td>\n",
       "      <td>2.627644e+04</td>\n",
       "      <td>2.625360e+04</td>\n",
       "      <td>2.632872e+04</td>\n",
       "      <td>2.625611e+04</td>\n",
       "      <td>2.633979e+04</td>\n",
       "      <td>2.629440e+04</td>\n",
       "      <td>2.627620e+04</td>\n",
       "      <td>2.635345e+04</td>\n",
       "      <td>2.628232e+04</td>\n",
       "      <td>2.634446e+04</td>\n",
       "      <td>2.636739e+04</td>\n",
       "      <td>2.625771e+04</td>\n",
       "      <td>2.648313e+04</td>\n",
       "      <td>2.638753e+04</td>\n",
       "      <td>2.626968e+04</td>\n",
       "      <td>2.623826e+04</td>\n",
       "      <td>2.630487e+04</td>\n",
       "      <td>2.624348e+04</td>\n",
       "      <td>2.638560e+04</td>\n",
       "      <td>2.620561e+04</td>\n",
       "      <td>2.630678e+04</td>\n",
       "      <td>2.627786e+04</td>\n",
       "      <td>2.616603e+04</td>\n",
       "      <td>2.631367e+04</td>\n",
       "      <td>2.620188e+04</td>\n",
       "      <td>2.618542e+04</td>\n",
       "      <td>2.624512e+04</td>\n",
       "      <td>2.625785e+04</td>\n",
       "      <td>2.642315e+04</td>\n",
       "      <td>2.621238e+04</td>\n",
       "      <td>2.636027e+04</td>\n",
       "      <td>2.629231e+04</td>\n",
       "      <td>2.618336e+04</td>\n",
       "    </tr>\n",
       "    <tr>\n",
       "      <th>2</th>\n",
       "      <td>1.298393e+06</td>\n",
       "      <td>1.299550e+06</td>\n",
       "      <td>1.299725e+06</td>\n",
       "      <td>1.299612e+06</td>\n",
       "      <td>1.299747e+06</td>\n",
       "      <td>1.299215e+06</td>\n",
       "      <td>1.299576e+06</td>\n",
       "      <td>1.299769e+06</td>\n",
       "      <td>1.299262e+06</td>\n",
       "      <td>1.299409e+06</td>\n",
       "      <td>1.299280e+06</td>\n",
       "      <td>1.299889e+06</td>\n",
       "      <td>1.299150e+06</td>\n",
       "      <td>1.299826e+06</td>\n",
       "      <td>1.298902e+06</td>\n",
       "      <td>1.299552e+06</td>\n",
       "      <td>1.299346e+06</td>\n",
       "      <td>1.298708e+06</td>\n",
       "      <td>1.299628e+06</td>\n",
       "      <td>1.299107e+06</td>\n",
       "      <td>1.299239e+06</td>\n",
       "      <td>1.299363e+06</td>\n",
       "      <td>1.299605e+06</td>\n",
       "      <td>1.299160e+06</td>\n",
       "      <td>1.299955e+06</td>\n",
       "      <td>1.299210e+06</td>\n",
       "      <td>1.299477e+06</td>\n",
       "      <td>1.299130e+06</td>\n",
       "      <td>1.299318e+06</td>\n",
       "      <td>1.298997e+06</td>\n",
       "      <td>1.299127e+06</td>\n",
       "      <td>1.299335e+06</td>\n",
       "      <td>1.299339e+06</td>\n",
       "      <td>1.299389e+06</td>\n",
       "      <td>1.299585e+06</td>\n",
       "      <td>1.299507e+06</td>\n",
       "      <td>1.298837e+06</td>\n",
       "      <td>1.299754e+06</td>\n",
       "      <td>1.298997e+06</td>\n",
       "      <td>1.300436e+06</td>\n",
       "      <td>...</td>\n",
       "      <td>1.295584e+06</td>\n",
       "      <td>1.296259e+06</td>\n",
       "      <td>1.295880e+06</td>\n",
       "      <td>1.296397e+06</td>\n",
       "      <td>1.295613e+06</td>\n",
       "      <td>1.295237e+06</td>\n",
       "      <td>1.295789e+06</td>\n",
       "      <td>1.295417e+06</td>\n",
       "      <td>1.295453e+06</td>\n",
       "      <td>1.295508e+06</td>\n",
       "      <td>1.295937e+06</td>\n",
       "      <td>1.294957e+06</td>\n",
       "      <td>1.295125e+06</td>\n",
       "      <td>1.294599e+06</td>\n",
       "      <td>1.294709e+06</td>\n",
       "      <td>1.295073e+06</td>\n",
       "      <td>1.295429e+06</td>\n",
       "      <td>1.295154e+06</td>\n",
       "      <td>1.295264e+06</td>\n",
       "      <td>1.295769e+06</td>\n",
       "      <td>1.295695e+06</td>\n",
       "      <td>1.295337e+06</td>\n",
       "      <td>1.295557e+06</td>\n",
       "      <td>1.295314e+06</td>\n",
       "      <td>1.295710e+06</td>\n",
       "      <td>1.295153e+06</td>\n",
       "      <td>1.295031e+06</td>\n",
       "      <td>1.295029e+06</td>\n",
       "      <td>1.295460e+06</td>\n",
       "      <td>1.295186e+06</td>\n",
       "      <td>1.294849e+06</td>\n",
       "      <td>1.295283e+06</td>\n",
       "      <td>1.294897e+06</td>\n",
       "      <td>1.294750e+06</td>\n",
       "      <td>1.294881e+06</td>\n",
       "      <td>1.294939e+06</td>\n",
       "      <td>1.295167e+06</td>\n",
       "      <td>1.295158e+06</td>\n",
       "      <td>1.295069e+06</td>\n",
       "      <td>1.294454e+06</td>\n",
       "    </tr>\n",
       "    <tr>\n",
       "      <th>3</th>\n",
       "      <td>1.125213e+05</td>\n",
       "      <td>1.127580e+05</td>\n",
       "      <td>1.129430e+05</td>\n",
       "      <td>1.125623e+05</td>\n",
       "      <td>1.127893e+05</td>\n",
       "      <td>1.125752e+05</td>\n",
       "      <td>1.127852e+05</td>\n",
       "      <td>1.126351e+05</td>\n",
       "      <td>1.126462e+05</td>\n",
       "      <td>1.126747e+05</td>\n",
       "      <td>1.128206e+05</td>\n",
       "      <td>1.126230e+05</td>\n",
       "      <td>1.127497e+05</td>\n",
       "      <td>1.127325e+05</td>\n",
       "      <td>1.127567e+05</td>\n",
       "      <td>1.127885e+05</td>\n",
       "      <td>1.126766e+05</td>\n",
       "      <td>1.127609e+05</td>\n",
       "      <td>1.125398e+05</td>\n",
       "      <td>1.127966e+05</td>\n",
       "      <td>1.126471e+05</td>\n",
       "      <td>1.126480e+05</td>\n",
       "      <td>1.128501e+05</td>\n",
       "      <td>1.128040e+05</td>\n",
       "      <td>1.127078e+05</td>\n",
       "      <td>1.128669e+05</td>\n",
       "      <td>1.126771e+05</td>\n",
       "      <td>1.127147e+05</td>\n",
       "      <td>1.127916e+05</td>\n",
       "      <td>1.126816e+05</td>\n",
       "      <td>1.127761e+05</td>\n",
       "      <td>1.126781e+05</td>\n",
       "      <td>1.127678e+05</td>\n",
       "      <td>1.127868e+05</td>\n",
       "      <td>1.125911e+05</td>\n",
       "      <td>1.127481e+05</td>\n",
       "      <td>1.127409e+05</td>\n",
       "      <td>1.126717e+05</td>\n",
       "      <td>1.126739e+05</td>\n",
       "      <td>1.125557e+05</td>\n",
       "      <td>...</td>\n",
       "      <td>1.124980e+05</td>\n",
       "      <td>1.125445e+05</td>\n",
       "      <td>1.125411e+05</td>\n",
       "      <td>1.125625e+05</td>\n",
       "      <td>1.124583e+05</td>\n",
       "      <td>1.125062e+05</td>\n",
       "      <td>1.123094e+05</td>\n",
       "      <td>1.126122e+05</td>\n",
       "      <td>1.126024e+05</td>\n",
       "      <td>1.123122e+05</td>\n",
       "      <td>1.125150e+05</td>\n",
       "      <td>1.124099e+05</td>\n",
       "      <td>1.124539e+05</td>\n",
       "      <td>1.123920e+05</td>\n",
       "      <td>1.124828e+05</td>\n",
       "      <td>1.124690e+05</td>\n",
       "      <td>1.125900e+05</td>\n",
       "      <td>1.125468e+05</td>\n",
       "      <td>1.123983e+05</td>\n",
       "      <td>1.125112e+05</td>\n",
       "      <td>1.124692e+05</td>\n",
       "      <td>1.124070e+05</td>\n",
       "      <td>1.125379e+05</td>\n",
       "      <td>1.124257e+05</td>\n",
       "      <td>1.125522e+05</td>\n",
       "      <td>1.124184e+05</td>\n",
       "      <td>1.125103e+05</td>\n",
       "      <td>1.123842e+05</td>\n",
       "      <td>1.126233e+05</td>\n",
       "      <td>1.123789e+05</td>\n",
       "      <td>1.123924e+05</td>\n",
       "      <td>1.123847e+05</td>\n",
       "      <td>1.125097e+05</td>\n",
       "      <td>1.125469e+05</td>\n",
       "      <td>1.124996e+05</td>\n",
       "      <td>1.125005e+05</td>\n",
       "      <td>1.124207e+05</td>\n",
       "      <td>1.124281e+05</td>\n",
       "      <td>1.124471e+05</td>\n",
       "      <td>1.123491e+05</td>\n",
       "    </tr>\n",
       "    <tr>\n",
       "      <th>4</th>\n",
       "      <td>4.064368e+04</td>\n",
       "      <td>4.024597e+04</td>\n",
       "      <td>4.043663e+04</td>\n",
       "      <td>4.031514e+04</td>\n",
       "      <td>4.029457e+04</td>\n",
       "      <td>4.023700e+04</td>\n",
       "      <td>4.029928e+04</td>\n",
       "      <td>4.044337e+04</td>\n",
       "      <td>4.056287e+04</td>\n",
       "      <td>4.024665e+04</td>\n",
       "      <td>4.043309e+04</td>\n",
       "      <td>4.036776e+04</td>\n",
       "      <td>4.041253e+04</td>\n",
       "      <td>4.034370e+04</td>\n",
       "      <td>4.067833e+04</td>\n",
       "      <td>4.021538e+04</td>\n",
       "      <td>4.045781e+04</td>\n",
       "      <td>4.032538e+04</td>\n",
       "      <td>4.037169e+04</td>\n",
       "      <td>4.034290e+04</td>\n",
       "      <td>4.028767e+04</td>\n",
       "      <td>4.024320e+04</td>\n",
       "      <td>4.023320e+04</td>\n",
       "      <td>4.024396e+04</td>\n",
       "      <td>4.034883e+04</td>\n",
       "      <td>4.034518e+04</td>\n",
       "      <td>4.028057e+04</td>\n",
       "      <td>4.029106e+04</td>\n",
       "      <td>4.048474e+04</td>\n",
       "      <td>4.029657e+04</td>\n",
       "      <td>4.035592e+04</td>\n",
       "      <td>4.021696e+04</td>\n",
       "      <td>4.020960e+04</td>\n",
       "      <td>4.021597e+04</td>\n",
       "      <td>4.026372e+04</td>\n",
       "      <td>4.027219e+04</td>\n",
       "      <td>4.024717e+04</td>\n",
       "      <td>4.023869e+04</td>\n",
       "      <td>4.038073e+04</td>\n",
       "      <td>4.031858e+04</td>\n",
       "      <td>...</td>\n",
       "      <td>4.300994e+04</td>\n",
       "      <td>4.303990e+04</td>\n",
       "      <td>4.306673e+04</td>\n",
       "      <td>4.301858e+04</td>\n",
       "      <td>4.267300e+04</td>\n",
       "      <td>4.247712e+04</td>\n",
       "      <td>4.262169e+04</td>\n",
       "      <td>4.277094e+04</td>\n",
       "      <td>4.303920e+04</td>\n",
       "      <td>4.267297e+04</td>\n",
       "      <td>4.267512e+04</td>\n",
       "      <td>4.263271e+04</td>\n",
       "      <td>4.274761e+04</td>\n",
       "      <td>4.247607e+04</td>\n",
       "      <td>4.258747e+04</td>\n",
       "      <td>4.217027e+04</td>\n",
       "      <td>4.206883e+04</td>\n",
       "      <td>4.236280e+04</td>\n",
       "      <td>4.214163e+04</td>\n",
       "      <td>4.226997e+04</td>\n",
       "      <td>4.200494e+04</td>\n",
       "      <td>4.193790e+04</td>\n",
       "      <td>4.209874e+04</td>\n",
       "      <td>4.221375e+04</td>\n",
       "      <td>4.254759e+04</td>\n",
       "      <td>4.279462e+04</td>\n",
       "      <td>4.288303e+04</td>\n",
       "      <td>4.289924e+04</td>\n",
       "      <td>4.287694e+04</td>\n",
       "      <td>4.282583e+04</td>\n",
       "      <td>4.266600e+04</td>\n",
       "      <td>4.277455e+04</td>\n",
       "      <td>4.272497e+04</td>\n",
       "      <td>4.275998e+04</td>\n",
       "      <td>4.296628e+04</td>\n",
       "      <td>4.300132e+04</td>\n",
       "      <td>4.278209e+04</td>\n",
       "      <td>4.265919e+04</td>\n",
       "      <td>4.269699e+04</td>\n",
       "      <td>4.274217e+04</td>\n",
       "    </tr>\n",
       "  </tbody>\n",
       "</table>\n",
       "<p>5 rows × 15050 columns</p>\n",
       "</div>"
      ],
      "text/plain": [
       "          0             1      ...         15048         15049\n",
       "0  1.411572e+05  1.412424e+05  ...  1.412287e+05  1.413100e+05\n",
       "1  2.605181e+04  2.611330e+04  ...  2.629231e+04  2.618336e+04\n",
       "2  1.298393e+06  1.299550e+06  ...  1.295069e+06  1.294454e+06\n",
       "3  1.125213e+05  1.127580e+05  ...  1.124471e+05  1.123491e+05\n",
       "4  4.064368e+04  4.024597e+04  ...  4.269699e+04  4.274217e+04\n",
       "\n",
       "[5 rows x 15050 columns]"
      ]
     },
     "execution_count": 57,
     "metadata": {
      "tags": []
     },
     "output_type": "execute_result"
    }
   ],
   "source": [
    "X.head()"
   ]
  },
  {
   "cell_type": "code",
   "execution_count": null,
   "id": "YtM8xZNBs8ND",
   "metadata": {
    "colab": {
     "base_uri": "https://localhost:8080/"
    },
    "executionInfo": {
     "elapsed": 229,
     "status": "ok",
     "timestamp": 1627479411064,
     "user": {
      "displayName": "Guilherme Samuel",
      "photoUrl": "https://lh3.googleusercontent.com/a-/AOh14Gi5zFr3jUWJ1NdrUB6KSy3C4B0uR2RLqUiKRzi0S2M=s64",
      "userId": "17398030156076443435"
     },
     "user_tz": 180
    },
    "id": "YtM8xZNBs8ND",
    "outputId": "c5ff0576-64e0-44f7-b7c2-9796f2cfc9e0"
   },
   "outputs": [
    {
     "data": {
      "text/plain": [
       "(33, 15050)"
      ]
     },
     "execution_count": 58,
     "metadata": {
      "tags": []
     },
     "output_type": "execute_result"
    }
   ],
   "source": [
    "X.shape"
   ]
  },
  {
   "cell_type": "markdown",
   "id": "nWzVjf_eyvM0",
   "metadata": {
    "id": "nWzVjf_eyvM0"
   },
   "source": [
    "### Labeling matrix of features\n",
    "\n",
    "- 0: confirmed_exoplanets\n",
    "- 1: eclipsing_binaries\n",
    "- 2: none"
   ]
  },
  {
   "cell_type": "code",
   "execution_count": null,
   "id": "zdvdql3MyvM1",
   "metadata": {
    "colab": {
     "base_uri": "https://localhost:8080/"
    },
    "executionInfo": {
     "elapsed": 312,
     "status": "ok",
     "timestamp": 1627479595682,
     "user": {
      "displayName": "Guilherme Samuel",
      "photoUrl": "https://lh3.googleusercontent.com/a-/AOh14Gi5zFr3jUWJ1NdrUB6KSy3C4B0uR2RLqUiKRzi0S2M=s64",
      "userId": "17398030156076443435"
     },
     "user_tz": 180
    },
    "id": "zdvdql3MyvM1",
    "outputId": "55263832-5a41-45e3-ef3a-1a4658896cf5"
   },
   "outputs": [
    {
     "data": {
      "text/plain": [
       "array([0, 0, 0, ..., 0, 0, 0])"
      ]
     },
     "execution_count": 78,
     "metadata": {
      "tags": []
     },
     "output_type": "execute_result"
    }
   ],
   "source": [
    "labels = np.zeros(X.size, dtype='int')\n",
    "labels"
   ]
  },
  {
   "cell_type": "code",
   "execution_count": null,
   "id": "tyqcrLLEyvM1",
   "metadata": {
    "colab": {
     "base_uri": "https://localhost:8080/"
    },
    "executionInfo": {
     "elapsed": 5,
     "status": "ok",
     "timestamp": 1627479595683,
     "user": {
      "displayName": "Guilherme Samuel",
      "photoUrl": "https://lh3.googleusercontent.com/a-/AOh14Gi5zFr3jUWJ1NdrUB6KSy3C4B0uR2RLqUiKRzi0S2M=s64",
      "userId": "17398030156076443435"
     },
     "user_tz": 180
    },
    "id": "tyqcrLLEyvM1",
    "outputId": "3cab637f-d0b2-4baf-a9f2-bf83bf404468"
   },
   "outputs": [
    {
     "data": {
      "text/plain": [
       "0    0\n",
       "1    0\n",
       "2    0\n",
       "3    0\n",
       "4    0\n",
       "dtype: int64"
      ]
     },
     "execution_count": 79,
     "metadata": {
      "tags": []
     },
     "output_type": "execute_result"
    }
   ],
   "source": [
    "y = pd.Series(labels)\n",
    "y.head()"
   ]
  },
  {
   "cell_type": "code",
   "execution_count": null,
   "id": "xJI7BJoGyvM1",
   "metadata": {
    "colab": {
     "base_uri": "https://localhost:8080/"
    },
    "executionInfo": {
     "elapsed": 3,
     "status": "ok",
     "timestamp": 1627479595683,
     "user": {
      "displayName": "Guilherme Samuel",
      "photoUrl": "https://lh3.googleusercontent.com/a-/AOh14Gi5zFr3jUWJ1NdrUB6KSy3C4B0uR2RLqUiKRzi0S2M=s64",
      "userId": "17398030156076443435"
     },
     "user_tz": 180
    },
    "id": "xJI7BJoGyvM1",
    "outputId": "e81c743b-0b77-4f29-f4a9-a2f9b7554a61"
   },
   "outputs": [
    {
     "data": {
      "text/plain": [
       "(496650,)"
      ]
     },
     "execution_count": 80,
     "metadata": {
      "tags": []
     },
     "output_type": "execute_result"
    }
   ],
   "source": [
    "y.shape"
   ]
  },
  {
   "cell_type": "markdown",
   "id": "iQohy5yLtOWT",
   "metadata": {
    "id": "iQohy5yLtOWT"
   },
   "source": [
    "### Creating dataset, X and y"
   ]
  },
  {
   "cell_type": "code",
   "execution_count": null,
   "id": "QhQUiuGOtOWe",
   "metadata": {
    "colab": {
     "base_uri": "https://localhost:8080/"
    },
    "executionInfo": {
     "elapsed": 279,
     "status": "ok",
     "timestamp": 1627479596728,
     "user": {
      "displayName": "Guilherme Samuel",
      "photoUrl": "https://lh3.googleusercontent.com/a-/AOh14Gi5zFr3jUWJ1NdrUB6KSy3C4B0uR2RLqUiKRzi0S2M=s64",
      "userId": "17398030156076443435"
     },
     "user_tz": 180
    },
    "id": "QhQUiuGOtOWe",
    "outputId": "46cc108d-d7cb-47f3-8409-a8835e65c7bc"
   },
   "outputs": [
    {
     "data": {
      "text/html": [
       "<div>\n",
       "<style scoped>\n",
       "    .dataframe tbody tr th:only-of-type {\n",
       "        vertical-align: middle;\n",
       "    }\n",
       "\n",
       "    .dataframe tbody tr th {\n",
       "        vertical-align: top;\n",
       "    }\n",
       "\n",
       "    .dataframe thead th {\n",
       "        text-align: right;\n",
       "    }\n",
       "</style>\n",
       "<table border=\"1\" class=\"dataframe\">\n",
       "  <thead>\n",
       "    <tr style=\"text-align: right;\">\n",
       "      <th></th>\n",
       "      <th>0</th>\n",
       "      <th>1</th>\n",
       "      <th>2</th>\n",
       "      <th>3</th>\n",
       "      <th>4</th>\n",
       "      <th>5</th>\n",
       "      <th>6</th>\n",
       "      <th>7</th>\n",
       "      <th>8</th>\n",
       "      <th>9</th>\n",
       "      <th>10</th>\n",
       "      <th>11</th>\n",
       "      <th>12</th>\n",
       "      <th>13</th>\n",
       "      <th>14</th>\n",
       "      <th>15</th>\n",
       "      <th>16</th>\n",
       "      <th>17</th>\n",
       "      <th>18</th>\n",
       "      <th>19</th>\n",
       "      <th>20</th>\n",
       "      <th>21</th>\n",
       "      <th>22</th>\n",
       "      <th>23</th>\n",
       "      <th>24</th>\n",
       "      <th>25</th>\n",
       "      <th>26</th>\n",
       "      <th>27</th>\n",
       "      <th>28</th>\n",
       "      <th>29</th>\n",
       "      <th>30</th>\n",
       "      <th>31</th>\n",
       "      <th>32</th>\n",
       "      <th>33</th>\n",
       "      <th>34</th>\n",
       "      <th>35</th>\n",
       "      <th>36</th>\n",
       "      <th>37</th>\n",
       "      <th>38</th>\n",
       "      <th>39</th>\n",
       "      <th>...</th>\n",
       "      <th>15011</th>\n",
       "      <th>15012</th>\n",
       "      <th>15013</th>\n",
       "      <th>15014</th>\n",
       "      <th>15015</th>\n",
       "      <th>15016</th>\n",
       "      <th>15017</th>\n",
       "      <th>15018</th>\n",
       "      <th>15019</th>\n",
       "      <th>15020</th>\n",
       "      <th>15021</th>\n",
       "      <th>15022</th>\n",
       "      <th>15023</th>\n",
       "      <th>15024</th>\n",
       "      <th>15025</th>\n",
       "      <th>15026</th>\n",
       "      <th>15027</th>\n",
       "      <th>15028</th>\n",
       "      <th>15029</th>\n",
       "      <th>15030</th>\n",
       "      <th>15031</th>\n",
       "      <th>15032</th>\n",
       "      <th>15033</th>\n",
       "      <th>15034</th>\n",
       "      <th>15035</th>\n",
       "      <th>15036</th>\n",
       "      <th>15037</th>\n",
       "      <th>15038</th>\n",
       "      <th>15039</th>\n",
       "      <th>15040</th>\n",
       "      <th>15041</th>\n",
       "      <th>15042</th>\n",
       "      <th>15043</th>\n",
       "      <th>15044</th>\n",
       "      <th>15045</th>\n",
       "      <th>15046</th>\n",
       "      <th>15047</th>\n",
       "      <th>15048</th>\n",
       "      <th>15049</th>\n",
       "      <th>label</th>\n",
       "    </tr>\n",
       "  </thead>\n",
       "  <tbody>\n",
       "    <tr>\n",
       "      <th>7</th>\n",
       "      <td>30819.826000</td>\n",
       "      <td>30766.330239</td>\n",
       "      <td>30751.556425</td>\n",
       "      <td>30749.078411</td>\n",
       "      <td>30735.472031</td>\n",
       "      <td>30705.364719</td>\n",
       "      <td>30673.455704</td>\n",
       "      <td>30662.058557</td>\n",
       "      <td>30682.811774</td>\n",
       "      <td>30726.006400</td>\n",
       "      <td>30766.044428</td>\n",
       "      <td>30779.528462</td>\n",
       "      <td>30762.480430</td>\n",
       "      <td>30733.670298</td>\n",
       "      <td>30721.967523</td>\n",
       "      <td>30747.701120</td>\n",
       "      <td>30810.995926</td>\n",
       "      <td>30892.582773</td>\n",
       "      <td>30963.134137</td>\n",
       "      <td>30994.637790</td>\n",
       "      <td>30971.285524</td>\n",
       "      <td>30899.489245</td>\n",
       "      <td>30812.158646</td>\n",
       "      <td>30757.956592</td>\n",
       "      <td>30773.076489</td>\n",
       "      <td>30850.996851</td>\n",
       "      <td>30937.516699</td>\n",
       "      <td>30965.531315</td>\n",
       "      <td>30909.779524</td>\n",
       "      <td>30815.873666</td>\n",
       "      <td>30770.754493</td>\n",
       "      <td>30830.580119</td>\n",
       "      <td>30965.570660</td>\n",
       "      <td>31074.862790</td>\n",
       "      <td>31066.062397</td>\n",
       "      <td>30933.718685</td>\n",
       "      <td>30766.639144</td>\n",
       "      <td>30675.022829</td>\n",
       "      <td>30700.963010</td>\n",
       "      <td>30791.397016</td>\n",
       "      <td>...</td>\n",
       "      <td>31257.034885</td>\n",
       "      <td>31264.336563</td>\n",
       "      <td>31300.065245</td>\n",
       "      <td>31342.684879</td>\n",
       "      <td>31375.525377</td>\n",
       "      <td>31386.046775</td>\n",
       "      <td>31362.258516</td>\n",
       "      <td>31301.359103</td>\n",
       "      <td>31225.968013</td>\n",
       "      <td>31185.069625</td>\n",
       "      <td>31225.200043</td>\n",
       "      <td>31348.360808</td>\n",
       "      <td>31494.844160</td>\n",
       "      <td>31574.995403</td>\n",
       "      <td>31532.203536</td>\n",
       "      <td>31387.986425</td>\n",
       "      <td>31230.251847</td>\n",
       "      <td>31151.297131</td>\n",
       "      <td>31183.599756</td>\n",
       "      <td>31282.844881</td>\n",
       "      <td>31368.501950</td>\n",
       "      <td>31386.865644</td>\n",
       "      <td>31347.153080</td>\n",
       "      <td>31306.651124</td>\n",
       "      <td>31321.815477</td>\n",
       "      <td>31405.234907</td>\n",
       "      <td>31518.720306</td>\n",
       "      <td>31602.739344</td>\n",
       "      <td>31617.101315</td>\n",
       "      <td>31564.063024</td>\n",
       "      <td>31481.233700</td>\n",
       "      <td>31413.127641</td>\n",
       "      <td>31382.205800</td>\n",
       "      <td>31377.323280</td>\n",
       "      <td>31364.368751</td>\n",
       "      <td>31310.075393</td>\n",
       "      <td>31203.441067</td>\n",
       "      <td>31062.404104</td>\n",
       "      <td>30923.186993</td>\n",
       "      <td>0</td>\n",
       "    </tr>\n",
       "    <tr>\n",
       "      <th>0</th>\n",
       "      <td>141157.216020</td>\n",
       "      <td>141242.434636</td>\n",
       "      <td>141132.564812</td>\n",
       "      <td>141373.143346</td>\n",
       "      <td>141213.262888</td>\n",
       "      <td>141357.927056</td>\n",
       "      <td>141195.854576</td>\n",
       "      <td>141249.723060</td>\n",
       "      <td>141382.882136</td>\n",
       "      <td>141409.646127</td>\n",
       "      <td>141270.347310</td>\n",
       "      <td>141232.742194</td>\n",
       "      <td>141149.203020</td>\n",
       "      <td>141287.347367</td>\n",
       "      <td>141214.443625</td>\n",
       "      <td>141144.196655</td>\n",
       "      <td>141200.096238</td>\n",
       "      <td>141222.533249</td>\n",
       "      <td>141323.471805</td>\n",
       "      <td>141207.648435</td>\n",
       "      <td>141185.552578</td>\n",
       "      <td>141164.668742</td>\n",
       "      <td>141212.764561</td>\n",
       "      <td>141336.627107</td>\n",
       "      <td>141263.521595</td>\n",
       "      <td>141308.810296</td>\n",
       "      <td>141330.700205</td>\n",
       "      <td>141143.809870</td>\n",
       "      <td>141298.757841</td>\n",
       "      <td>141150.205593</td>\n",
       "      <td>141136.397407</td>\n",
       "      <td>141408.260213</td>\n",
       "      <td>141087.606264</td>\n",
       "      <td>141172.925450</td>\n",
       "      <td>141292.442324</td>\n",
       "      <td>141367.329433</td>\n",
       "      <td>141232.994283</td>\n",
       "      <td>141120.579153</td>\n",
       "      <td>141330.990802</td>\n",
       "      <td>141172.077723</td>\n",
       "      <td>...</td>\n",
       "      <td>141102.476944</td>\n",
       "      <td>141047.400969</td>\n",
       "      <td>141135.385006</td>\n",
       "      <td>141131.922378</td>\n",
       "      <td>141231.656466</td>\n",
       "      <td>141115.855797</td>\n",
       "      <td>141220.542768</td>\n",
       "      <td>141162.097924</td>\n",
       "      <td>141102.469348</td>\n",
       "      <td>141206.299004</td>\n",
       "      <td>141123.514021</td>\n",
       "      <td>141192.723871</td>\n",
       "      <td>141248.047431</td>\n",
       "      <td>141207.440681</td>\n",
       "      <td>141139.602971</td>\n",
       "      <td>141157.554097</td>\n",
       "      <td>141045.650680</td>\n",
       "      <td>141139.907409</td>\n",
       "      <td>140888.479585</td>\n",
       "      <td>140995.832130</td>\n",
       "      <td>141126.000693</td>\n",
       "      <td>141195.104186</td>\n",
       "      <td>141157.523028</td>\n",
       "      <td>141105.662748</td>\n",
       "      <td>141112.441533</td>\n",
       "      <td>141293.285098</td>\n",
       "      <td>141107.636577</td>\n",
       "      <td>141054.134890</td>\n",
       "      <td>141174.120525</td>\n",
       "      <td>140912.054405</td>\n",
       "      <td>140998.875288</td>\n",
       "      <td>141227.024526</td>\n",
       "      <td>141183.770462</td>\n",
       "      <td>141301.178908</td>\n",
       "      <td>141147.423729</td>\n",
       "      <td>141100.943892</td>\n",
       "      <td>141378.202818</td>\n",
       "      <td>141228.656766</td>\n",
       "      <td>141309.960163</td>\n",
       "      <td>0</td>\n",
       "    </tr>\n",
       "    <tr>\n",
       "      <th>28</th>\n",
       "      <td>62789.448650</td>\n",
       "      <td>63084.529078</td>\n",
       "      <td>62888.248116</td>\n",
       "      <td>62879.160690</td>\n",
       "      <td>62902.299203</td>\n",
       "      <td>62856.785176</td>\n",
       "      <td>62838.438216</td>\n",
       "      <td>62890.327459</td>\n",
       "      <td>62978.468824</td>\n",
       "      <td>62915.586396</td>\n",
       "      <td>63030.280126</td>\n",
       "      <td>62972.033937</td>\n",
       "      <td>63002.387872</td>\n",
       "      <td>62917.744686</td>\n",
       "      <td>62882.950698</td>\n",
       "      <td>62963.445695</td>\n",
       "      <td>63047.080991</td>\n",
       "      <td>62936.457158</td>\n",
       "      <td>62918.843671</td>\n",
       "      <td>62903.944131</td>\n",
       "      <td>62860.251827</td>\n",
       "      <td>62981.319394</td>\n",
       "      <td>62955.393306</td>\n",
       "      <td>62950.430855</td>\n",
       "      <td>62790.031253</td>\n",
       "      <td>62864.886726</td>\n",
       "      <td>62973.441523</td>\n",
       "      <td>62832.014189</td>\n",
       "      <td>62840.955762</td>\n",
       "      <td>62894.206974</td>\n",
       "      <td>62961.589149</td>\n",
       "      <td>63016.263609</td>\n",
       "      <td>62849.370593</td>\n",
       "      <td>62860.779191</td>\n",
       "      <td>62823.774972</td>\n",
       "      <td>62836.445243</td>\n",
       "      <td>62939.162851</td>\n",
       "      <td>63026.291359</td>\n",
       "      <td>63070.556424</td>\n",
       "      <td>62920.886694</td>\n",
       "      <td>...</td>\n",
       "      <td>62681.452641</td>\n",
       "      <td>62818.463320</td>\n",
       "      <td>62658.489891</td>\n",
       "      <td>62751.509989</td>\n",
       "      <td>62673.658088</td>\n",
       "      <td>62645.568598</td>\n",
       "      <td>62681.461059</td>\n",
       "      <td>62508.688815</td>\n",
       "      <td>62410.438476</td>\n",
       "      <td>62357.747106</td>\n",
       "      <td>62424.788206</td>\n",
       "      <td>62287.583036</td>\n",
       "      <td>62463.003606</td>\n",
       "      <td>62461.858904</td>\n",
       "      <td>62661.955794</td>\n",
       "      <td>62695.748268</td>\n",
       "      <td>62763.846757</td>\n",
       "      <td>62617.561068</td>\n",
       "      <td>62713.372410</td>\n",
       "      <td>62667.105538</td>\n",
       "      <td>62616.660149</td>\n",
       "      <td>62616.715432</td>\n",
       "      <td>62717.656437</td>\n",
       "      <td>62704.556538</td>\n",
       "      <td>62715.951555</td>\n",
       "      <td>62749.903309</td>\n",
       "      <td>62744.565477</td>\n",
       "      <td>62690.301100</td>\n",
       "      <td>62640.328884</td>\n",
       "      <td>62562.900647</td>\n",
       "      <td>62681.503019</td>\n",
       "      <td>62595.074849</td>\n",
       "      <td>62785.115156</td>\n",
       "      <td>62726.137782</td>\n",
       "      <td>62662.004908</td>\n",
       "      <td>62639.195962</td>\n",
       "      <td>62595.452252</td>\n",
       "      <td>62665.525918</td>\n",
       "      <td>62690.144817</td>\n",
       "      <td>0</td>\n",
       "    </tr>\n",
       "    <tr>\n",
       "      <th>16</th>\n",
       "      <td>41432.330660</td>\n",
       "      <td>41693.673194</td>\n",
       "      <td>41615.060995</td>\n",
       "      <td>41733.206360</td>\n",
       "      <td>41407.073111</td>\n",
       "      <td>41575.178851</td>\n",
       "      <td>41481.167264</td>\n",
       "      <td>41461.696150</td>\n",
       "      <td>41574.132506</td>\n",
       "      <td>41545.980086</td>\n",
       "      <td>41589.135266</td>\n",
       "      <td>41631.806337</td>\n",
       "      <td>41678.861443</td>\n",
       "      <td>41666.674866</td>\n",
       "      <td>41573.258211</td>\n",
       "      <td>41595.650027</td>\n",
       "      <td>41704.488771</td>\n",
       "      <td>41548.087189</td>\n",
       "      <td>41514.108672</td>\n",
       "      <td>41592.132381</td>\n",
       "      <td>41587.728893</td>\n",
       "      <td>41642.447618</td>\n",
       "      <td>41577.163200</td>\n",
       "      <td>41561.930921</td>\n",
       "      <td>41516.422593</td>\n",
       "      <td>41608.456849</td>\n",
       "      <td>41626.788574</td>\n",
       "      <td>41504.738696</td>\n",
       "      <td>41597.093006</td>\n",
       "      <td>41628.753414</td>\n",
       "      <td>41551.683274</td>\n",
       "      <td>41666.509823</td>\n",
       "      <td>41582.059959</td>\n",
       "      <td>41581.388399</td>\n",
       "      <td>41583.151091</td>\n",
       "      <td>41794.523488</td>\n",
       "      <td>41602.794663</td>\n",
       "      <td>41608.601705</td>\n",
       "      <td>41609.603589</td>\n",
       "      <td>41571.278191</td>\n",
       "      <td>...</td>\n",
       "      <td>40881.435582</td>\n",
       "      <td>40843.288013</td>\n",
       "      <td>40754.713626</td>\n",
       "      <td>40845.671971</td>\n",
       "      <td>40768.896734</td>\n",
       "      <td>40795.521882</td>\n",
       "      <td>40733.957968</td>\n",
       "      <td>40801.082108</td>\n",
       "      <td>40758.474369</td>\n",
       "      <td>40777.197609</td>\n",
       "      <td>40654.588433</td>\n",
       "      <td>40805.613933</td>\n",
       "      <td>40743.934771</td>\n",
       "      <td>40834.311881</td>\n",
       "      <td>40829.452126</td>\n",
       "      <td>40898.833956</td>\n",
       "      <td>40790.762090</td>\n",
       "      <td>40842.380033</td>\n",
       "      <td>40691.121858</td>\n",
       "      <td>40828.179011</td>\n",
       "      <td>40902.506017</td>\n",
       "      <td>40846.943964</td>\n",
       "      <td>40717.051200</td>\n",
       "      <td>40755.964071</td>\n",
       "      <td>40761.241218</td>\n",
       "      <td>40749.390892</td>\n",
       "      <td>40764.210918</td>\n",
       "      <td>40783.309633</td>\n",
       "      <td>40688.716724</td>\n",
       "      <td>40899.485940</td>\n",
       "      <td>40846.857493</td>\n",
       "      <td>40836.554608</td>\n",
       "      <td>40791.558598</td>\n",
       "      <td>40873.087750</td>\n",
       "      <td>40697.934377</td>\n",
       "      <td>40749.979366</td>\n",
       "      <td>40747.427558</td>\n",
       "      <td>40981.845986</td>\n",
       "      <td>40791.714704</td>\n",
       "      <td>0</td>\n",
       "    </tr>\n",
       "    <tr>\n",
       "      <th>8</th>\n",
       "      <td>75697.102041</td>\n",
       "      <td>75521.999008</td>\n",
       "      <td>75698.416356</td>\n",
       "      <td>75705.738417</td>\n",
       "      <td>75615.635709</td>\n",
       "      <td>75589.288889</td>\n",
       "      <td>75636.802773</td>\n",
       "      <td>75605.037888</td>\n",
       "      <td>75643.661031</td>\n",
       "      <td>75676.159731</td>\n",
       "      <td>75686.112903</td>\n",
       "      <td>75529.686928</td>\n",
       "      <td>75619.574181</td>\n",
       "      <td>75598.209878</td>\n",
       "      <td>75671.834220</td>\n",
       "      <td>75653.166464</td>\n",
       "      <td>75668.853037</td>\n",
       "      <td>75677.115840</td>\n",
       "      <td>75667.335173</td>\n",
       "      <td>75869.542965</td>\n",
       "      <td>75494.598934</td>\n",
       "      <td>75647.836979</td>\n",
       "      <td>75566.587210</td>\n",
       "      <td>75589.594379</td>\n",
       "      <td>75699.678912</td>\n",
       "      <td>75702.470303</td>\n",
       "      <td>75733.356330</td>\n",
       "      <td>75581.316242</td>\n",
       "      <td>75790.350131</td>\n",
       "      <td>75540.179441</td>\n",
       "      <td>75675.170180</td>\n",
       "      <td>75585.319226</td>\n",
       "      <td>75586.911065</td>\n",
       "      <td>75641.780776</td>\n",
       "      <td>75606.990303</td>\n",
       "      <td>75701.682365</td>\n",
       "      <td>75516.024677</td>\n",
       "      <td>75547.293254</td>\n",
       "      <td>75563.844719</td>\n",
       "      <td>75755.697044</td>\n",
       "      <td>...</td>\n",
       "      <td>76268.041648</td>\n",
       "      <td>76281.419232</td>\n",
       "      <td>76284.440650</td>\n",
       "      <td>76394.796219</td>\n",
       "      <td>76213.197332</td>\n",
       "      <td>76266.147764</td>\n",
       "      <td>76103.233510</td>\n",
       "      <td>76216.735548</td>\n",
       "      <td>76239.222373</td>\n",
       "      <td>76242.488306</td>\n",
       "      <td>76374.396560</td>\n",
       "      <td>76234.833050</td>\n",
       "      <td>76231.972588</td>\n",
       "      <td>76326.670377</td>\n",
       "      <td>76266.439862</td>\n",
       "      <td>76203.261758</td>\n",
       "      <td>76211.216236</td>\n",
       "      <td>76228.558971</td>\n",
       "      <td>76245.008354</td>\n",
       "      <td>76174.797288</td>\n",
       "      <td>76321.157824</td>\n",
       "      <td>76245.700392</td>\n",
       "      <td>76255.793168</td>\n",
       "      <td>76386.641211</td>\n",
       "      <td>76193.530045</td>\n",
       "      <td>76262.074742</td>\n",
       "      <td>76154.024313</td>\n",
       "      <td>76303.203262</td>\n",
       "      <td>76377.507464</td>\n",
       "      <td>76282.547285</td>\n",
       "      <td>76156.168117</td>\n",
       "      <td>76283.238530</td>\n",
       "      <td>76317.845976</td>\n",
       "      <td>76357.921520</td>\n",
       "      <td>76262.509002</td>\n",
       "      <td>76403.950151</td>\n",
       "      <td>76152.819830</td>\n",
       "      <td>76197.209589</td>\n",
       "      <td>76313.579812</td>\n",
       "      <td>0</td>\n",
       "    </tr>\n",
       "  </tbody>\n",
       "</table>\n",
       "<p>5 rows × 15051 columns</p>\n",
       "</div>"
      ],
      "text/plain": [
       "                0              1  ...          15049  label\n",
       "7    30819.826000   30766.330239  ...   30923.186993      0\n",
       "0   141157.216020  141242.434636  ...  141309.960163      0\n",
       "28   62789.448650   63084.529078  ...   62690.144817      0\n",
       "16   41432.330660   41693.673194  ...   40791.714704      0\n",
       "8    75697.102041   75521.999008  ...   76313.579812      0\n",
       "\n",
       "[5 rows x 15051 columns]"
      ]
     },
     "execution_count": 81,
     "metadata": {
      "tags": []
     },
     "output_type": "execute_result"
    }
   ],
   "source": [
    "# Creating pd.DataFrame with X data, and setted columns\n",
    "df = pd.DataFrame(X)\n",
    "\n",
    "# Adding labels\n",
    "df['label'] = y\n",
    "\n",
    "df.sample(5)"
   ]
  },
  {
   "cell_type": "markdown",
   "id": "dCkScG6ktOWf",
   "metadata": {
    "id": "dCkScG6ktOWf"
   },
   "source": [
    "How many Labels we got ?"
   ]
  },
  {
   "cell_type": "code",
   "execution_count": null,
   "id": "h5xpIXWltOWf",
   "metadata": {
    "colab": {
     "base_uri": "https://localhost:8080/"
    },
    "executionInfo": {
     "elapsed": 6,
     "status": "ok",
     "timestamp": 1627479596728,
     "user": {
      "displayName": "Guilherme Samuel",
      "photoUrl": "https://lh3.googleusercontent.com/a-/AOh14Gi5zFr3jUWJ1NdrUB6KSy3C4B0uR2RLqUiKRzi0S2M=s64",
      "userId": "17398030156076443435"
     },
     "user_tz": 180
    },
    "id": "h5xpIXWltOWf",
    "outputId": "4b13760f-6513-4e87-b01f-138561fa888d"
   },
   "outputs": [
    {
     "name": "stdout",
     "output_type": "stream",
     "text": [
      "Labels = [0] \n",
      "Counts = [496650]\n"
     ]
    }
   ],
   "source": [
    "labels, counts = np.unique(y, return_counts=True)\n",
    "print('Labels =', labels, '\\nCounts =', counts)"
   ]
  },
  {
   "cell_type": "markdown",
   "id": "VMjgBKHctwt6",
   "metadata": {
    "id": "VMjgBKHctwt6"
   },
   "source": [
    "## Machine Learning"
   ]
  },
  {
   "cell_type": "markdown",
   "id": "ywjdpJPqtwt7",
   "metadata": {
    "id": "ywjdpJPqtwt7"
   },
   "source": [
    "### **Preliminaries**"
   ]
  },
  {
   "cell_type": "markdown",
   "id": "3Cb5_Cg-twt7",
   "metadata": {
    "id": "3Cb5_Cg-twt7"
   },
   "source": [
    "### **Splitting the dataset into the Training set and Test set**"
   ]
  },
  {
   "cell_type": "code",
   "execution_count": null,
   "id": "FtZNPFTxxr51",
   "metadata": {
    "id": "FtZNPFTxxr51"
   },
   "outputs": [],
   "source": [
    "X = df.iloc[:, :-1].values\n",
    "y = df.iloc[:, -1].values"
   ]
  },
  {
   "cell_type": "code",
   "execution_count": null,
   "id": "_jV_Btnntwt7",
   "metadata": {
    "colab": {
     "base_uri": "https://localhost:8080/"
    },
    "executionInfo": {
     "elapsed": 4,
     "status": "ok",
     "timestamp": 1627479598468,
     "user": {
      "displayName": "Guilherme Samuel",
      "photoUrl": "https://lh3.googleusercontent.com/a-/AOh14Gi5zFr3jUWJ1NdrUB6KSy3C4B0uR2RLqUiKRzi0S2M=s64",
      "userId": "17398030156076443435"
     },
     "user_tz": 180
    },
    "id": "_jV_Btnntwt7",
    "outputId": "55e5ee8d-6d24-4637-8013-39a8f558b34d"
   },
   "outputs": [
    {
     "name": "stdout",
     "output_type": "stream",
     "text": [
      "(24, 15050) (24,) (9, 15050) (9,)\n"
     ]
    }
   ],
   "source": [
    "from sklearn.model_selection import train_test_split\n",
    "\n",
    "X_train, X_test, y_train, y_test = train_test_split(X, y, test_size=0.25, shuffle=True, random_state=42)\n",
    "\n",
    "print(X_train.shape, y_train.shape, X_test.shape, y_test.shape)"
   ]
  },
  {
   "cell_type": "markdown",
   "id": "M5RKzhWstwt8",
   "metadata": {
    "id": "M5RKzhWstwt8"
   },
   "source": [
    "### **Time Series Classification**"
   ]
  },
  {
   "cell_type": "code",
   "execution_count": null,
   "id": "FsNpFTbBtwt8",
   "metadata": {
    "colab": {
     "base_uri": "https://localhost:8080/"
    },
    "executionInfo": {
     "elapsed": 210,
     "status": "ok",
     "timestamp": 1627479727253,
     "user": {
      "displayName": "Guilherme Samuel",
      "photoUrl": "https://lh3.googleusercontent.com/a-/AOh14Gi5zFr3jUWJ1NdrUB6KSy3C4B0uR2RLqUiKRzi0S2M=s64",
      "userId": "17398030156076443435"
     },
     "user_tz": 180
    },
    "id": "FsNpFTbBtwt8",
    "outputId": "d7bd8404-dcae-4fd7-cc60-e1835c516053"
   },
   "outputs": [
    {
     "data": {
      "text/plain": [
       "KNeighborsClassifier()"
      ]
     },
     "execution_count": 91,
     "metadata": {
      "tags": []
     },
     "output_type": "execute_result"
    }
   ],
   "source": [
    "from sklearn.neighbors import KNeighborsClassifier\n",
    "classifier = KNeighborsClassifier(n_neighbors=5, metric='minkowski', p=2)\n",
    "\n",
    "# from sklearn import svm\n",
    "# classifier = svm.SVC()\n",
    "\n",
    "classifier.fit(X_train, y_train)"
   ]
  },
  {
   "cell_type": "code",
   "execution_count": null,
   "id": "UD7ubQZnyDYa",
   "metadata": {
    "id": "UD7ubQZnyDYa"
   },
   "outputs": [],
   "source": [
    "y_pred = classifier.predict(X_test)"
   ]
  },
  {
   "cell_type": "code",
   "execution_count": null,
   "id": "ck1ncPb1yDWL",
   "metadata": {
    "colab": {
     "base_uri": "https://localhost:8080/"
    },
    "executionInfo": {
     "elapsed": 189,
     "status": "ok",
     "timestamp": 1627479608799,
     "user": {
      "displayName": "Guilherme Samuel",
      "photoUrl": "https://lh3.googleusercontent.com/a-/AOh14Gi5zFr3jUWJ1NdrUB6KSy3C4B0uR2RLqUiKRzi0S2M=s64",
      "userId": "17398030156076443435"
     },
     "user_tz": 180
    },
    "id": "ck1ncPb1yDWL",
    "outputId": "992b26fd-e529-4fbd-b9fa-3dbdd403584c"
   },
   "outputs": [
    {
     "name": "stdout",
     "output_type": "stream",
     "text": [
      "[[9]]\n"
     ]
    },
    {
     "data": {
      "text/plain": [
       "1.0"
      ]
     },
     "execution_count": 87,
     "metadata": {
      "tags": []
     },
     "output_type": "execute_result"
    }
   ],
   "source": [
    "from sklearn.metrics import confusion_matrix, accuracy_score\n",
    "\n",
    "cm = confusion_matrix(y_test, y_pred)\n",
    "print(cm)\n",
    "accuracy_score(y_test, y_pred)"
   ]
  },
  {
   "cell_type": "markdown",
   "id": "Mf5_AQHillfb",
   "metadata": {
    "id": "Mf5_AQHillfb"
   },
   "source": [
    "# ML Classifier - Periodograms\n",
    "\n",
    "---\n",
    "\n"
   ]
  },
  {
   "cell_type": "code",
   "execution_count": 11,
   "id": "hrtjyzBEm-nK",
   "metadata": {
    "colab": {
     "base_uri": "https://localhost:8080/",
     "height": 336
    },
    "executionInfo": {
     "elapsed": 937,
     "status": "ok",
     "timestamp": 1627769524652,
     "user": {
      "displayName": "Guilherme Samuel",
      "photoUrl": "https://lh3.googleusercontent.com/a-/AOh14Gi5zFr3jUWJ1NdrUB6KSy3C4B0uR2RLqUiKRzi0S2M=s64",
      "userId": "17398030156076443435"
     },
     "user_tz": 180
    },
    "id": "hrtjyzBEm-nK",
    "outputId": "a106cb61-69a9-4f45-c056-e0c3bc88ce4e"
   },
   "outputs": [
    {
     "data": {
      "text/html": [
       "<div>\n",
       "<style scoped>\n",
       "    .dataframe tbody tr th:only-of-type {\n",
       "        vertical-align: middle;\n",
       "    }\n",
       "\n",
       "    .dataframe tbody tr th {\n",
       "        vertical-align: top;\n",
       "    }\n",
       "\n",
       "    .dataframe thead th {\n",
       "        text-align: right;\n",
       "    }\n",
       "</style>\n",
       "<table border=\"1\" class=\"dataframe\">\n",
       "  <thead>\n",
       "    <tr style=\"text-align: right;\">\n",
       "      <th></th>\n",
       "      <th>0</th>\n",
       "      <th>1</th>\n",
       "      <th>2</th>\n",
       "      <th>3</th>\n",
       "      <th>4</th>\n",
       "      <th>5</th>\n",
       "      <th>6</th>\n",
       "      <th>7</th>\n",
       "      <th>8</th>\n",
       "      <th>9</th>\n",
       "      <th>10</th>\n",
       "      <th>11</th>\n",
       "      <th>12</th>\n",
       "      <th>13</th>\n",
       "      <th>14</th>\n",
       "      <th>15</th>\n",
       "      <th>16</th>\n",
       "      <th>17</th>\n",
       "      <th>18</th>\n",
       "      <th>19</th>\n",
       "      <th>20</th>\n",
       "      <th>21</th>\n",
       "      <th>22</th>\n",
       "      <th>23</th>\n",
       "      <th>24</th>\n",
       "      <th>25</th>\n",
       "      <th>26</th>\n",
       "      <th>27</th>\n",
       "      <th>28</th>\n",
       "      <th>29</th>\n",
       "      <th>30</th>\n",
       "      <th>31</th>\n",
       "      <th>32</th>\n",
       "      <th>33</th>\n",
       "      <th>34</th>\n",
       "      <th>35</th>\n",
       "      <th>36</th>\n",
       "      <th>37</th>\n",
       "      <th>38</th>\n",
       "      <th>39</th>\n",
       "      <th>...</th>\n",
       "      <th>7486</th>\n",
       "      <th>7487</th>\n",
       "      <th>7488</th>\n",
       "      <th>7489</th>\n",
       "      <th>7490</th>\n",
       "      <th>7491</th>\n",
       "      <th>7492</th>\n",
       "      <th>7493</th>\n",
       "      <th>7494</th>\n",
       "      <th>7495</th>\n",
       "      <th>7496</th>\n",
       "      <th>7497</th>\n",
       "      <th>7498</th>\n",
       "      <th>7499</th>\n",
       "      <th>7500</th>\n",
       "      <th>7501</th>\n",
       "      <th>7502</th>\n",
       "      <th>7503</th>\n",
       "      <th>7504</th>\n",
       "      <th>7505</th>\n",
       "      <th>7506</th>\n",
       "      <th>7507</th>\n",
       "      <th>7508</th>\n",
       "      <th>7509</th>\n",
       "      <th>7510</th>\n",
       "      <th>7511</th>\n",
       "      <th>7512</th>\n",
       "      <th>7513</th>\n",
       "      <th>7514</th>\n",
       "      <th>7515</th>\n",
       "      <th>7516</th>\n",
       "      <th>7517</th>\n",
       "      <th>7518</th>\n",
       "      <th>7519</th>\n",
       "      <th>7520</th>\n",
       "      <th>7521</th>\n",
       "      <th>7522</th>\n",
       "      <th>7523</th>\n",
       "      <th>7524</th>\n",
       "      <th>7525</th>\n",
       "    </tr>\n",
       "  </thead>\n",
       "  <tbody>\n",
       "    <tr>\n",
       "      <th>0</th>\n",
       "      <td>3.698734e-21</td>\n",
       "      <td>2.187372e+10</td>\n",
       "      <td>4.653541e+09</td>\n",
       "      <td>2.977435e+10</td>\n",
       "      <td>5.847694e+09</td>\n",
       "      <td>1.299638e+10</td>\n",
       "      <td>9.043435e+09</td>\n",
       "      <td>1.605398e+09</td>\n",
       "      <td>4.163878e+08</td>\n",
       "      <td>6.495074e+08</td>\n",
       "      <td>8.126626e+09</td>\n",
       "      <td>9.406637e+09</td>\n",
       "      <td>2.139047e+09</td>\n",
       "      <td>7.464040e+08</td>\n",
       "      <td>8.710111e+08</td>\n",
       "      <td>3.066070e+08</td>\n",
       "      <td>1.722429e+09</td>\n",
       "      <td>1.694147e+09</td>\n",
       "      <td>9.865663e+08</td>\n",
       "      <td>8.465616e+08</td>\n",
       "      <td>1.380645e+09</td>\n",
       "      <td>3.179946e+07</td>\n",
       "      <td>1.181358e+09</td>\n",
       "      <td>7.756270e+08</td>\n",
       "      <td>1.003634e+08</td>\n",
       "      <td>6.288176e+08</td>\n",
       "      <td>3.771828e+08</td>\n",
       "      <td>8.828726e+08</td>\n",
       "      <td>1.492417e+09</td>\n",
       "      <td>1.647794e+08</td>\n",
       "      <td>1.810905e+09</td>\n",
       "      <td>1.071801e+10</td>\n",
       "      <td>1.822772e+10</td>\n",
       "      <td>8.686493e+08</td>\n",
       "      <td>1.672761e+09</td>\n",
       "      <td>4.151073e+08</td>\n",
       "      <td>1.422037e+08</td>\n",
       "      <td>3.095936e+08</td>\n",
       "      <td>4.878045e+07</td>\n",
       "      <td>3.732714e+08</td>\n",
       "      <td>...</td>\n",
       "      <td>5.859518e+06</td>\n",
       "      <td>1.802153e+07</td>\n",
       "      <td>6.298346e+06</td>\n",
       "      <td>4.934046e+06</td>\n",
       "      <td>3.243160e+07</td>\n",
       "      <td>4.082484e+06</td>\n",
       "      <td>1.900234e+07</td>\n",
       "      <td>1.505044e+07</td>\n",
       "      <td>8.717856e+06</td>\n",
       "      <td>1.667094e+07</td>\n",
       "      <td>2.006054e+07</td>\n",
       "      <td>1.210509e+06</td>\n",
       "      <td>1.945082e+07</td>\n",
       "      <td>7.096113e+06</td>\n",
       "      <td>2.315154e+07</td>\n",
       "      <td>4.012920e+07</td>\n",
       "      <td>1.055361e+06</td>\n",
       "      <td>4.469378e+06</td>\n",
       "      <td>3.237999e+05</td>\n",
       "      <td>4.170387e+06</td>\n",
       "      <td>1.672472e+07</td>\n",
       "      <td>3.123520e+07</td>\n",
       "      <td>1.453152e+06</td>\n",
       "      <td>3.700304e+07</td>\n",
       "      <td>1.612176e+06</td>\n",
       "      <td>1.006348e+07</td>\n",
       "      <td>2.784085e+06</td>\n",
       "      <td>1.442023e+06</td>\n",
       "      <td>1.009989e+07</td>\n",
       "      <td>5.640032e+06</td>\n",
       "      <td>3.093162e+06</td>\n",
       "      <td>6.324198e+07</td>\n",
       "      <td>5.984340e+06</td>\n",
       "      <td>5.636384e+07</td>\n",
       "      <td>6.359579e+06</td>\n",
       "      <td>2.165289e+07</td>\n",
       "      <td>3.362567e+07</td>\n",
       "      <td>1.639384e+06</td>\n",
       "      <td>7.700957e+07</td>\n",
       "      <td>4.122675e+05</td>\n",
       "    </tr>\n",
       "    <tr>\n",
       "      <th>1</th>\n",
       "      <td>3.999557e-18</td>\n",
       "      <td>5.784624e+13</td>\n",
       "      <td>5.242573e+12</td>\n",
       "      <td>1.114427e+12</td>\n",
       "      <td>8.653755e+12</td>\n",
       "      <td>3.495333e+13</td>\n",
       "      <td>6.333985e+13</td>\n",
       "      <td>1.223317e+13</td>\n",
       "      <td>7.133227e+11</td>\n",
       "      <td>3.332728e+12</td>\n",
       "      <td>6.307572e+12</td>\n",
       "      <td>1.189972e+13</td>\n",
       "      <td>1.339273e+13</td>\n",
       "      <td>4.585274e+12</td>\n",
       "      <td>2.595879e+12</td>\n",
       "      <td>1.647835e+11</td>\n",
       "      <td>1.322158e+12</td>\n",
       "      <td>3.092180e+12</td>\n",
       "      <td>1.231179e+11</td>\n",
       "      <td>8.636186e+10</td>\n",
       "      <td>3.534272e+10</td>\n",
       "      <td>1.728992e+11</td>\n",
       "      <td>1.773730e+10</td>\n",
       "      <td>1.762227e+11</td>\n",
       "      <td>3.180256e+10</td>\n",
       "      <td>1.703417e+11</td>\n",
       "      <td>2.373593e+10</td>\n",
       "      <td>5.385853e+10</td>\n",
       "      <td>2.690612e+10</td>\n",
       "      <td>7.111801e+10</td>\n",
       "      <td>8.931761e+10</td>\n",
       "      <td>1.096729e+11</td>\n",
       "      <td>3.603436e+10</td>\n",
       "      <td>2.655039e+08</td>\n",
       "      <td>3.324433e+10</td>\n",
       "      <td>1.137900e+11</td>\n",
       "      <td>5.872237e+10</td>\n",
       "      <td>3.719629e+10</td>\n",
       "      <td>4.964274e+10</td>\n",
       "      <td>3.085536e+10</td>\n",
       "      <td>...</td>\n",
       "      <td>1.209086e+09</td>\n",
       "      <td>1.702009e+09</td>\n",
       "      <td>3.732716e+08</td>\n",
       "      <td>3.764944e+07</td>\n",
       "      <td>6.530433e+08</td>\n",
       "      <td>3.449799e+08</td>\n",
       "      <td>2.953255e+06</td>\n",
       "      <td>5.937585e+08</td>\n",
       "      <td>8.981582e+07</td>\n",
       "      <td>3.058008e+08</td>\n",
       "      <td>1.005418e+08</td>\n",
       "      <td>3.397017e+08</td>\n",
       "      <td>3.034542e+08</td>\n",
       "      <td>1.506536e+08</td>\n",
       "      <td>2.785713e+08</td>\n",
       "      <td>6.444151e+08</td>\n",
       "      <td>2.399501e+08</td>\n",
       "      <td>9.712044e+08</td>\n",
       "      <td>3.309554e+08</td>\n",
       "      <td>5.073232e+08</td>\n",
       "      <td>1.480754e+09</td>\n",
       "      <td>4.535894e+08</td>\n",
       "      <td>9.340738e+06</td>\n",
       "      <td>2.035568e+08</td>\n",
       "      <td>7.644298e+08</td>\n",
       "      <td>2.158474e+08</td>\n",
       "      <td>8.841379e+08</td>\n",
       "      <td>2.560128e+08</td>\n",
       "      <td>1.858450e+08</td>\n",
       "      <td>1.644058e+08</td>\n",
       "      <td>7.884955e+08</td>\n",
       "      <td>8.525404e+07</td>\n",
       "      <td>5.671301e+08</td>\n",
       "      <td>6.771197e+08</td>\n",
       "      <td>8.770928e+07</td>\n",
       "      <td>7.573039e+06</td>\n",
       "      <td>2.590354e+08</td>\n",
       "      <td>3.938666e+07</td>\n",
       "      <td>2.073784e+08</td>\n",
       "      <td>3.598600e+08</td>\n",
       "    </tr>\n",
       "    <tr>\n",
       "      <th>2</th>\n",
       "      <td>3.301438e-21</td>\n",
       "      <td>1.656106e+11</td>\n",
       "      <td>4.241954e+10</td>\n",
       "      <td>1.295592e+10</td>\n",
       "      <td>1.441850e+10</td>\n",
       "      <td>7.333357e+09</td>\n",
       "      <td>3.654204e+09</td>\n",
       "      <td>8.038780e+08</td>\n",
       "      <td>2.345564e+09</td>\n",
       "      <td>3.428295e+08</td>\n",
       "      <td>1.486851e+08</td>\n",
       "      <td>4.355384e+07</td>\n",
       "      <td>1.922543e+09</td>\n",
       "      <td>1.190937e+09</td>\n",
       "      <td>1.042278e+09</td>\n",
       "      <td>2.177381e+09</td>\n",
       "      <td>2.186346e+08</td>\n",
       "      <td>2.266618e+08</td>\n",
       "      <td>1.933830e+08</td>\n",
       "      <td>1.024137e+09</td>\n",
       "      <td>6.308557e+07</td>\n",
       "      <td>3.175023e+08</td>\n",
       "      <td>3.831862e+08</td>\n",
       "      <td>1.347591e+08</td>\n",
       "      <td>4.991692e+07</td>\n",
       "      <td>6.616579e+07</td>\n",
       "      <td>3.089654e+08</td>\n",
       "      <td>2.338376e+08</td>\n",
       "      <td>1.757878e+08</td>\n",
       "      <td>1.022475e+08</td>\n",
       "      <td>1.619658e+08</td>\n",
       "      <td>2.161862e+07</td>\n",
       "      <td>7.733964e+07</td>\n",
       "      <td>1.881846e+08</td>\n",
       "      <td>2.409856e+07</td>\n",
       "      <td>1.216204e+08</td>\n",
       "      <td>5.106637e+07</td>\n",
       "      <td>2.844362e+07</td>\n",
       "      <td>1.700110e+08</td>\n",
       "      <td>1.287244e+07</td>\n",
       "      <td>...</td>\n",
       "      <td>6.336029e+06</td>\n",
       "      <td>2.901623e+06</td>\n",
       "      <td>9.709432e+06</td>\n",
       "      <td>6.766949e+06</td>\n",
       "      <td>3.311118e+07</td>\n",
       "      <td>3.102628e+06</td>\n",
       "      <td>6.014224e+06</td>\n",
       "      <td>1.052508e+07</td>\n",
       "      <td>1.792224e+06</td>\n",
       "      <td>5.597886e+06</td>\n",
       "      <td>8.938615e+06</td>\n",
       "      <td>2.654949e+06</td>\n",
       "      <td>3.223749e+05</td>\n",
       "      <td>1.365606e+07</td>\n",
       "      <td>5.680955e+06</td>\n",
       "      <td>1.315171e+07</td>\n",
       "      <td>1.306965e+07</td>\n",
       "      <td>1.334836e+06</td>\n",
       "      <td>2.123376e+07</td>\n",
       "      <td>3.334838e+04</td>\n",
       "      <td>4.742393e+06</td>\n",
       "      <td>6.822047e+05</td>\n",
       "      <td>4.105110e+07</td>\n",
       "      <td>9.704217e+06</td>\n",
       "      <td>1.313942e+06</td>\n",
       "      <td>7.024191e+06</td>\n",
       "      <td>3.920979e+05</td>\n",
       "      <td>1.611153e+07</td>\n",
       "      <td>8.167207e+06</td>\n",
       "      <td>1.913767e+07</td>\n",
       "      <td>3.936906e+06</td>\n",
       "      <td>4.087972e+06</td>\n",
       "      <td>2.124753e+07</td>\n",
       "      <td>1.382830e+07</td>\n",
       "      <td>3.013891e+06</td>\n",
       "      <td>1.112224e+07</td>\n",
       "      <td>1.568576e+07</td>\n",
       "      <td>6.561321e+06</td>\n",
       "      <td>2.489063e+06</td>\n",
       "      <td>2.142671e+05</td>\n",
       "    </tr>\n",
       "    <tr>\n",
       "      <th>3</th>\n",
       "      <td>2.347411e-21</td>\n",
       "      <td>1.446522e+11</td>\n",
       "      <td>2.926439e+10</td>\n",
       "      <td>8.856258e+10</td>\n",
       "      <td>1.267793e+11</td>\n",
       "      <td>7.801648e+10</td>\n",
       "      <td>9.524482e+10</td>\n",
       "      <td>5.849805e+10</td>\n",
       "      <td>2.288253e+10</td>\n",
       "      <td>2.312979e+10</td>\n",
       "      <td>2.931245e+10</td>\n",
       "      <td>2.805120e+10</td>\n",
       "      <td>3.957929e+10</td>\n",
       "      <td>6.142179e+10</td>\n",
       "      <td>6.216595e+10</td>\n",
       "      <td>2.295419e+10</td>\n",
       "      <td>9.917353e+09</td>\n",
       "      <td>2.422448e+10</td>\n",
       "      <td>2.340713e+10</td>\n",
       "      <td>2.166599e+10</td>\n",
       "      <td>9.182803e+09</td>\n",
       "      <td>6.499000e+09</td>\n",
       "      <td>6.344703e+09</td>\n",
       "      <td>4.445389e+09</td>\n",
       "      <td>1.498852e+09</td>\n",
       "      <td>9.027348e+08</td>\n",
       "      <td>2.036861e+09</td>\n",
       "      <td>2.321052e+09</td>\n",
       "      <td>3.358732e+09</td>\n",
       "      <td>2.087908e+09</td>\n",
       "      <td>1.687891e+09</td>\n",
       "      <td>1.970376e+09</td>\n",
       "      <td>1.535445e+09</td>\n",
       "      <td>6.515868e+08</td>\n",
       "      <td>1.452884e+09</td>\n",
       "      <td>4.013471e+09</td>\n",
       "      <td>9.788411e+08</td>\n",
       "      <td>1.176883e+09</td>\n",
       "      <td>3.133791e+09</td>\n",
       "      <td>4.906828e+09</td>\n",
       "      <td>...</td>\n",
       "      <td>2.277813e+06</td>\n",
       "      <td>4.568980e+06</td>\n",
       "      <td>3.991391e+06</td>\n",
       "      <td>7.130943e+06</td>\n",
       "      <td>1.204470e+07</td>\n",
       "      <td>3.825498e+06</td>\n",
       "      <td>9.432747e+05</td>\n",
       "      <td>2.249743e+07</td>\n",
       "      <td>1.022491e+06</td>\n",
       "      <td>3.314838e+06</td>\n",
       "      <td>5.426386e+06</td>\n",
       "      <td>1.971414e+07</td>\n",
       "      <td>1.918997e+06</td>\n",
       "      <td>5.693808e+06</td>\n",
       "      <td>1.010783e+06</td>\n",
       "      <td>8.312123e+05</td>\n",
       "      <td>1.079153e+07</td>\n",
       "      <td>5.020188e+06</td>\n",
       "      <td>1.862797e+06</td>\n",
       "      <td>1.532614e+07</td>\n",
       "      <td>2.007534e+06</td>\n",
       "      <td>4.360234e+06</td>\n",
       "      <td>1.105087e+07</td>\n",
       "      <td>2.224375e+06</td>\n",
       "      <td>2.473986e+06</td>\n",
       "      <td>7.483401e+06</td>\n",
       "      <td>2.209326e+07</td>\n",
       "      <td>2.079834e+06</td>\n",
       "      <td>4.852925e+06</td>\n",
       "      <td>1.833137e+07</td>\n",
       "      <td>1.312425e+06</td>\n",
       "      <td>1.618716e+06</td>\n",
       "      <td>6.161822e+05</td>\n",
       "      <td>7.069934e+06</td>\n",
       "      <td>8.741769e+05</td>\n",
       "      <td>1.412689e+07</td>\n",
       "      <td>2.782050e+07</td>\n",
       "      <td>8.039433e+06</td>\n",
       "      <td>1.307975e+07</td>\n",
       "      <td>3.595673e+06</td>\n",
       "    </tr>\n",
       "    <tr>\n",
       "      <th>4</th>\n",
       "      <td>1.514690e-21</td>\n",
       "      <td>2.660556e+12</td>\n",
       "      <td>8.750812e+11</td>\n",
       "      <td>5.456667e+11</td>\n",
       "      <td>8.604106e+11</td>\n",
       "      <td>5.928171e+12</td>\n",
       "      <td>3.845155e+11</td>\n",
       "      <td>6.003512e+10</td>\n",
       "      <td>1.230223e+12</td>\n",
       "      <td>5.696613e+11</td>\n",
       "      <td>5.510373e+11</td>\n",
       "      <td>1.229502e+11</td>\n",
       "      <td>4.331146e+11</td>\n",
       "      <td>6.536904e+11</td>\n",
       "      <td>1.155310e+11</td>\n",
       "      <td>3.729638e+11</td>\n",
       "      <td>6.861902e+11</td>\n",
       "      <td>7.168059e+11</td>\n",
       "      <td>1.163156e+12</td>\n",
       "      <td>6.739932e+11</td>\n",
       "      <td>6.537787e+11</td>\n",
       "      <td>9.457468e+11</td>\n",
       "      <td>1.641149e+12</td>\n",
       "      <td>9.234042e+11</td>\n",
       "      <td>3.391170e+11</td>\n",
       "      <td>2.400593e+12</td>\n",
       "      <td>1.125012e+12</td>\n",
       "      <td>1.619200e+13</td>\n",
       "      <td>4.257016e+13</td>\n",
       "      <td>1.386066e+14</td>\n",
       "      <td>1.251609e+14</td>\n",
       "      <td>2.513605e+14</td>\n",
       "      <td>6.976831e+13</td>\n",
       "      <td>2.252078e+13</td>\n",
       "      <td>1.101076e+13</td>\n",
       "      <td>8.750051e+12</td>\n",
       "      <td>4.718911e+12</td>\n",
       "      <td>2.135353e+12</td>\n",
       "      <td>2.630677e+12</td>\n",
       "      <td>1.462807e+12</td>\n",
       "      <td>...</td>\n",
       "      <td>8.021413e+07</td>\n",
       "      <td>9.226670e+07</td>\n",
       "      <td>6.950245e+07</td>\n",
       "      <td>2.063020e+07</td>\n",
       "      <td>1.330526e+08</td>\n",
       "      <td>5.228473e+07</td>\n",
       "      <td>8.631832e+07</td>\n",
       "      <td>7.812558e+07</td>\n",
       "      <td>5.874413e+07</td>\n",
       "      <td>7.679085e+08</td>\n",
       "      <td>8.844318e+06</td>\n",
       "      <td>1.591009e+08</td>\n",
       "      <td>6.224376e+07</td>\n",
       "      <td>1.198233e+07</td>\n",
       "      <td>1.006110e+08</td>\n",
       "      <td>2.624271e+08</td>\n",
       "      <td>5.238574e+07</td>\n",
       "      <td>2.207024e+07</td>\n",
       "      <td>8.199011e+07</td>\n",
       "      <td>9.283523e+07</td>\n",
       "      <td>1.381196e+08</td>\n",
       "      <td>8.889676e+07</td>\n",
       "      <td>2.658051e+07</td>\n",
       "      <td>1.604157e+07</td>\n",
       "      <td>9.881702e+06</td>\n",
       "      <td>1.427925e+08</td>\n",
       "      <td>3.425586e+07</td>\n",
       "      <td>1.080499e+08</td>\n",
       "      <td>8.890381e+07</td>\n",
       "      <td>7.306812e+07</td>\n",
       "      <td>3.266698e+07</td>\n",
       "      <td>4.452323e+07</td>\n",
       "      <td>1.256674e+06</td>\n",
       "      <td>1.378539e+08</td>\n",
       "      <td>5.313656e+07</td>\n",
       "      <td>1.253566e+07</td>\n",
       "      <td>2.295495e+07</td>\n",
       "      <td>1.237998e+08</td>\n",
       "      <td>7.109648e+07</td>\n",
       "      <td>1.491803e+08</td>\n",
       "    </tr>\n",
       "  </tbody>\n",
       "</table>\n",
       "<p>5 rows × 7526 columns</p>\n",
       "</div>"
      ],
      "text/plain": [
       "              0             1  ...          7524          7525\n",
       "0  3.698734e-21  2.187372e+10  ...  7.700957e+07  4.122675e+05\n",
       "1  3.999557e-18  5.784624e+13  ...  2.073784e+08  3.598600e+08\n",
       "2  3.301438e-21  1.656106e+11  ...  2.489063e+06  2.142671e+05\n",
       "3  2.347411e-21  1.446522e+11  ...  1.307975e+07  3.595673e+06\n",
       "4  1.514690e-21  2.660556e+12  ...  7.109648e+07  1.491803e+08\n",
       "\n",
       "[5 rows x 7526 columns]"
      ]
     },
     "execution_count": 11,
     "metadata": {
      "tags": []
     },
     "output_type": "execute_result"
    }
   ],
   "source": [
    "import pandas as pd\n",
    "\n",
    "FEATURES_DIR = '/content/drive/MyDrive/01 - Iniciação Científica/02 - Datasets/features'\n",
    "PERIODOGRAMS_DIR = FEATURES_DIR + '/feature_periodograms.csv'\n",
    "\n",
    "data = pd.read_csv(PERIODOGRAMS_DIR)\n",
    "data.head()"
   ]
  },
  {
   "cell_type": "markdown",
   "id": "gh2NLj7pnaxx",
   "metadata": {
    "id": "gh2NLj7pnaxx"
   },
   "source": [
    "## Preprocessing"
   ]
  },
  {
   "cell_type": "markdown",
   "id": "Qi9KLeAAnz1i",
   "metadata": {
    "id": "Qi9KLeAAnz1i"
   },
   "source": [
    "**1. Normalization**"
   ]
  },
  {
   "cell_type": "code",
   "execution_count": 15,
   "id": "q79kkGoXnxJ9",
   "metadata": {
    "executionInfo": {
     "elapsed": 254,
     "status": "ok",
     "timestamp": 1627769590174,
     "user": {
      "displayName": "Guilherme Samuel",
      "photoUrl": "https://lh3.googleusercontent.com/a-/AOh14Gi5zFr3jUWJ1NdrUB6KSy3C4B0uR2RLqUiKRzi0S2M=s64",
      "userId": "17398030156076443435"
     },
     "user_tz": 180
    },
    "id": "q79kkGoXnxJ9"
   },
   "outputs": [],
   "source": [
    "from sklearn import preprocessing\n",
    "\n",
    "normalized_data = preprocessing.normalize(data)"
   ]
  },
  {
   "cell_type": "markdown",
   "id": "egJVaZhaoOHK",
   "metadata": {
    "id": "egJVaZhaoOHK"
   },
   "source": [
    "**2. PCA - Dimensionality Reduction**"
   ]
  },
  {
   "cell_type": "code",
   "execution_count": 26,
   "id": "DWI37pD9pSCP",
   "metadata": {
    "colab": {
     "base_uri": "https://localhost:8080/"
    },
    "executionInfo": {
     "elapsed": 222,
     "status": "ok",
     "timestamp": 1627770072205,
     "user": {
      "displayName": "Guilherme Samuel",
      "photoUrl": "https://lh3.googleusercontent.com/a-/AOh14Gi5zFr3jUWJ1NdrUB6KSy3C4B0uR2RLqUiKRzi0S2M=s64",
      "userId": "17398030156076443435"
     },
     "user_tz": 180
    },
    "id": "DWI37pD9pSCP",
    "outputId": "07fb3877-9279-4c2b-8d11-f7839dfa32fa"
   },
   "outputs": [
    {
     "name": "stdout",
     "output_type": "stream",
     "text": [
      "The minimun value is: 12\n"
     ]
    }
   ],
   "source": [
    "import numpy as np\n",
    "\n",
    "# What is the minimun value of `n_components` to keep 95% of variance on data ?\n",
    "\n",
    "pca = PCA()\n",
    "pca.fit(normalized_data)\n",
    "cumsum = np.cumsum(pca.explained_variance_ratio_)\n",
    "d = np.argmax(cumsum >= 0.95) + 1\n",
    "\n",
    "print(\"The minimun value is:\", d)"
   ]
  },
  {
   "cell_type": "code",
   "execution_count": 28,
   "id": "r8wtDATDoM0G",
   "metadata": {
    "executionInfo": {
     "elapsed": 227,
     "status": "ok",
     "timestamp": 1627770126215,
     "user": {
      "displayName": "Guilherme Samuel",
      "photoUrl": "https://lh3.googleusercontent.com/a-/AOh14Gi5zFr3jUWJ1NdrUB6KSy3C4B0uR2RLqUiKRzi0S2M=s64",
      "userId": "17398030156076443435"
     },
     "user_tz": 180
    },
    "id": "r8wtDATDoM0G"
   },
   "outputs": [],
   "source": [
    "from sklearn.decomposition import PCA\n",
    "\n",
    "pca = PCA(n_components=d)\n",
    "pca.fit(normalized_data)\n",
    "X_reduced = pca_dec.transform(normalized_data)"
   ]
  },
  {
   "cell_type": "markdown",
   "id": "Z5Srt7cGqQyH",
   "metadata": {
    "id": "Z5Srt7cGqQyH"
   },
   "source": [
    "Best altenative... set the `n_components` to fluctuate between 0.0 and 1.0, indicating the rate of variance you want to preserve"
   ]
  },
  {
   "cell_type": "code",
   "execution_count": 29,
   "id": "KcTDqavUqSQT",
   "metadata": {
    "executionInfo": {
     "elapsed": 234,
     "status": "ok",
     "timestamp": 1627770169583,
     "user": {
      "displayName": "Guilherme Samuel",
      "photoUrl": "https://lh3.googleusercontent.com/a-/AOh14Gi5zFr3jUWJ1NdrUB6KSy3C4B0uR2RLqUiKRzi0S2M=s64",
      "userId": "17398030156076443435"
     },
     "user_tz": 180
    },
    "id": "KcTDqavUqSQT"
   },
   "outputs": [],
   "source": [
    "pca = PCA(n_components=0.95)\n",
    "X_reduced = pca.fit_transform(normalized_data)"
   ]
  },
  {
   "cell_type": "markdown",
   "id": "w-ewaOwuq66q",
   "metadata": {
    "id": "w-ewaOwuq66q"
   },
   "source": [
    "### Labeling data - Move to Features notebook\n",
    "- 0: confirmed_exoplanets\n",
    "- 1: eclipsing_binaries\n",
    "- 2: none"
   ]
  },
  {
   "cell_type": "code",
   "execution_count": 35,
   "id": "6sUnqliIq6wW",
   "metadata": {
    "executionInfo": {
     "elapsed": 6,
     "status": "ok",
     "timestamp": 1627770414213,
     "user": {
      "displayName": "Guilherme Samuel",
      "photoUrl": "https://lh3.googleusercontent.com/a-/AOh14Gi5zFr3jUWJ1NdrUB6KSy3C4B0uR2RLqUiKRzi0S2M=s64",
      "userId": "17398030156076443435"
     },
     "user_tz": 180
    },
    "id": "6sUnqliIq6wW"
   },
   "outputs": [],
   "source": [
    "labels = np.zeros(X_reduced.size, dtype='int')\n",
    "y = pd.Series(labels)"
   ]
  },
  {
   "cell_type": "code",
   "execution_count": 37,
   "id": "WZ7nzPeiqSAD",
   "metadata": {
    "colab": {
     "base_uri": "https://localhost:8080/",
     "height": 203
    },
    "executionInfo": {
     "elapsed": 230,
     "status": "ok",
     "timestamp": 1627770462945,
     "user": {
      "displayName": "Guilherme Samuel",
      "photoUrl": "https://lh3.googleusercontent.com/a-/AOh14Gi5zFr3jUWJ1NdrUB6KSy3C4B0uR2RLqUiKRzi0S2M=s64",
      "userId": "17398030156076443435"
     },
     "user_tz": 180
    },
    "id": "WZ7nzPeiqSAD",
    "outputId": "34b9a9bd-129a-41a8-e0de-fe57406cdaa9"
   },
   "outputs": [
    {
     "data": {
      "text/html": [
       "<div>\n",
       "<style scoped>\n",
       "    .dataframe tbody tr th:only-of-type {\n",
       "        vertical-align: middle;\n",
       "    }\n",
       "\n",
       "    .dataframe tbody tr th {\n",
       "        vertical-align: top;\n",
       "    }\n",
       "\n",
       "    .dataframe thead th {\n",
       "        text-align: right;\n",
       "    }\n",
       "</style>\n",
       "<table border=\"1\" class=\"dataframe\">\n",
       "  <thead>\n",
       "    <tr style=\"text-align: right;\">\n",
       "      <th></th>\n",
       "      <th>0</th>\n",
       "      <th>1</th>\n",
       "      <th>2</th>\n",
       "      <th>3</th>\n",
       "      <th>4</th>\n",
       "      <th>5</th>\n",
       "      <th>6</th>\n",
       "      <th>7</th>\n",
       "      <th>8</th>\n",
       "      <th>9</th>\n",
       "      <th>10</th>\n",
       "      <th>11</th>\n",
       "      <th>label</th>\n",
       "    </tr>\n",
       "  </thead>\n",
       "  <tbody>\n",
       "    <tr>\n",
       "      <th>3</th>\n",
       "      <td>-0.183844</td>\n",
       "      <td>0.163366</td>\n",
       "      <td>0.310768</td>\n",
       "      <td>0.285708</td>\n",
       "      <td>0.013719</td>\n",
       "      <td>0.002408</td>\n",
       "      <td>-0.117863</td>\n",
       "      <td>0.062306</td>\n",
       "      <td>-0.058234</td>\n",
       "      <td>-0.114998</td>\n",
       "      <td>0.061483</td>\n",
       "      <td>-0.055326</td>\n",
       "      <td>0</td>\n",
       "    </tr>\n",
       "    <tr>\n",
       "      <th>25</th>\n",
       "      <td>-0.310238</td>\n",
       "      <td>-0.185057</td>\n",
       "      <td>0.105947</td>\n",
       "      <td>-0.122822</td>\n",
       "      <td>0.079757</td>\n",
       "      <td>-0.015586</td>\n",
       "      <td>0.009165</td>\n",
       "      <td>0.075386</td>\n",
       "      <td>-0.063351</td>\n",
       "      <td>-0.090487</td>\n",
       "      <td>0.158804</td>\n",
       "      <td>0.061291</td>\n",
       "      <td>0</td>\n",
       "    </tr>\n",
       "    <tr>\n",
       "      <th>10</th>\n",
       "      <td>0.483832</td>\n",
       "      <td>-0.021631</td>\n",
       "      <td>0.002591</td>\n",
       "      <td>0.206774</td>\n",
       "      <td>0.039691</td>\n",
       "      <td>-0.036169</td>\n",
       "      <td>-0.143799</td>\n",
       "      <td>0.142803</td>\n",
       "      <td>0.055436</td>\n",
       "      <td>-0.307767</td>\n",
       "      <td>0.202479</td>\n",
       "      <td>0.030654</td>\n",
       "      <td>0</td>\n",
       "    </tr>\n",
       "    <tr>\n",
       "      <th>15</th>\n",
       "      <td>-0.598290</td>\n",
       "      <td>-0.244020</td>\n",
       "      <td>-0.147174</td>\n",
       "      <td>-0.057469</td>\n",
       "      <td>-0.047162</td>\n",
       "      <td>0.026209</td>\n",
       "      <td>0.040734</td>\n",
       "      <td>-0.074681</td>\n",
       "      <td>0.005445</td>\n",
       "      <td>-0.042826</td>\n",
       "      <td>0.049707</td>\n",
       "      <td>-0.036782</td>\n",
       "      <td>0</td>\n",
       "    </tr>\n",
       "    <tr>\n",
       "      <th>23</th>\n",
       "      <td>-0.218547</td>\n",
       "      <td>0.296190</td>\n",
       "      <td>-0.368951</td>\n",
       "      <td>-0.264952</td>\n",
       "      <td>-0.022906</td>\n",
       "      <td>0.143660</td>\n",
       "      <td>0.211274</td>\n",
       "      <td>0.793491</td>\n",
       "      <td>-0.050449</td>\n",
       "      <td>0.035791</td>\n",
       "      <td>-0.062440</td>\n",
       "      <td>0.018867</td>\n",
       "      <td>0</td>\n",
       "    </tr>\n",
       "  </tbody>\n",
       "</table>\n",
       "</div>"
      ],
      "text/plain": [
       "           0         1         2         3  ...         9        10        11  label\n",
       "3  -0.183844  0.163366  0.310768  0.285708  ... -0.114998  0.061483 -0.055326      0\n",
       "25 -0.310238 -0.185057  0.105947 -0.122822  ... -0.090487  0.158804  0.061291      0\n",
       "10  0.483832 -0.021631  0.002591  0.206774  ... -0.307767  0.202479  0.030654      0\n",
       "15 -0.598290 -0.244020 -0.147174 -0.057469  ... -0.042826  0.049707 -0.036782      0\n",
       "23 -0.218547  0.296190 -0.368951 -0.264952  ...  0.035791 -0.062440  0.018867      0\n",
       "\n",
       "[5 rows x 13 columns]"
      ]
     },
     "execution_count": 37,
     "metadata": {
      "tags": []
     },
     "output_type": "execute_result"
    }
   ],
   "source": [
    "# Creating pd.DataFrame with X_reduced data, and setted columns\n",
    "data_labeled = pd.DataFrame(X_reduced)\n",
    "\n",
    "# Adding labels\n",
    "data_labeled['label'] = y\n",
    "\n",
    "data_labeled.sample(5)"
   ]
  },
  {
   "cell_type": "code",
   "execution_count": 42,
   "id": "_26b-LCcro5W",
   "metadata": {
    "executionInfo": {
     "elapsed": 303,
     "status": "ok",
     "timestamp": 1627770616787,
     "user": {
      "displayName": "Guilherme Samuel",
      "photoUrl": "https://lh3.googleusercontent.com/a-/AOh14Gi5zFr3jUWJ1NdrUB6KSy3C4B0uR2RLqUiKRzi0S2M=s64",
      "userId": "17398030156076443435"
     },
     "user_tz": 180
    },
    "id": "_26b-LCcro5W"
   },
   "outputs": [],
   "source": [
    "X = data_labeled.iloc[:, :-1].values # Matrix of features\n",
    "y = data_labeled.iloc[:, -1].values  # Vector of labels"
   ]
  },
  {
   "cell_type": "markdown",
   "id": "bI7ijgpJrnIn",
   "metadata": {
    "id": "bI7ijgpJrnIn"
   },
   "source": [
    "### Splitting the dataset into the Training set and Test set"
   ]
  },
  {
   "cell_type": "code",
   "execution_count": 43,
   "id": "i2RP7qWaruy8",
   "metadata": {
    "colab": {
     "base_uri": "https://localhost:8080/"
    },
    "executionInfo": {
     "elapsed": 351,
     "status": "ok",
     "timestamp": 1627770620295,
     "user": {
      "displayName": "Guilherme Samuel",
      "photoUrl": "https://lh3.googleusercontent.com/a-/AOh14Gi5zFr3jUWJ1NdrUB6KSy3C4B0uR2RLqUiKRzi0S2M=s64",
      "userId": "17398030156076443435"
     },
     "user_tz": 180
    },
    "id": "i2RP7qWaruy8",
    "outputId": "0528c1e8-3ab7-4032-9cd5-af42b1211076"
   },
   "outputs": [
    {
     "name": "stdout",
     "output_type": "stream",
     "text": [
      "(24, 12) (24,) (9, 12) (9,)\n"
     ]
    }
   ],
   "source": [
    "from sklearn.model_selection import train_test_split\n",
    "\n",
    "X_train, X_test, y_train, y_test = train_test_split(X, y, test_size=0.25, shuffle=True, random_state=42)\n",
    "\n",
    "print(X_train.shape, y_train.shape, X_test.shape, y_test.shape)"
   ]
  },
  {
   "cell_type": "markdown",
   "id": "bDGvNx6msLdK",
   "metadata": {
    "id": "bDGvNx6msLdK"
   },
   "source": [
    "## Train model - SGD"
   ]
  },
  {
   "cell_type": "code",
   "execution_count": 55,
   "id": "5ZHDNr9Kr0wy",
   "metadata": {
    "colab": {
     "base_uri": "https://localhost:8080/",
     "height": 354
    },
    "executionInfo": {
     "elapsed": 221,
     "status": "error",
     "timestamp": 1627772754072,
     "user": {
      "displayName": "Guilherme Samuel",
      "photoUrl": "https://lh3.googleusercontent.com/a-/AOh14Gi5zFr3jUWJ1NdrUB6KSy3C4B0uR2RLqUiKRzi0S2M=s64",
      "userId": "17398030156076443435"
     },
     "user_tz": 180
    },
    "id": "5ZHDNr9Kr0wy",
    "outputId": "48b5ed61-7e28-4776-f628-2083a467d1b1"
   },
   "outputs": [
    {
     "ename": "ValueError",
     "evalue": "ignored",
     "output_type": "error",
     "traceback": [
      "\u001b[0;31m---------------------------------------------------------------------------\u001b[0m",
      "\u001b[0;31mValueError\u001b[0m                                Traceback (most recent call last)",
      "\u001b[0;32m<ipython-input-55-4311a117f733>\u001b[0m in \u001b[0;36m<module>\u001b[0;34m()\u001b[0m\n\u001b[1;32m      2\u001b[0m \u001b[0;34m\u001b[0m\u001b[0m\n\u001b[1;32m      3\u001b[0m \u001b[0mclassifier\u001b[0m \u001b[0;34m=\u001b[0m \u001b[0mSGDClassifier\u001b[0m\u001b[0;34m(\u001b[0m\u001b[0mrandom_state\u001b[0m\u001b[0;34m=\u001b[0m\u001b[0;36m42\u001b[0m\u001b[0;34m)\u001b[0m\u001b[0;34m\u001b[0m\u001b[0;34m\u001b[0m\u001b[0m\n\u001b[0;32m----> 4\u001b[0;31m \u001b[0mclassifier\u001b[0m\u001b[0;34m.\u001b[0m\u001b[0mfit\u001b[0m\u001b[0;34m(\u001b[0m\u001b[0mX_train\u001b[0m\u001b[0;34m,\u001b[0m \u001b[0my_train\u001b[0m\u001b[0;34m)\u001b[0m\u001b[0;34m\u001b[0m\u001b[0;34m\u001b[0m\u001b[0m\n\u001b[0m",
      "\u001b[0;32m/usr/local/lib/python3.7/dist-packages/sklearn/linear_model/_stochastic_gradient.py\u001b[0m in \u001b[0;36mfit\u001b[0;34m(self, X, y, coef_init, intercept_init, sample_weight)\u001b[0m\n\u001b[1;32m    709\u001b[0m                          \u001b[0mloss\u001b[0m\u001b[0;34m=\u001b[0m\u001b[0mself\u001b[0m\u001b[0;34m.\u001b[0m\u001b[0mloss\u001b[0m\u001b[0;34m,\u001b[0m \u001b[0mlearning_rate\u001b[0m\u001b[0;34m=\u001b[0m\u001b[0mself\u001b[0m\u001b[0;34m.\u001b[0m\u001b[0mlearning_rate\u001b[0m\u001b[0;34m,\u001b[0m\u001b[0;34m\u001b[0m\u001b[0;34m\u001b[0m\u001b[0m\n\u001b[1;32m    710\u001b[0m                          \u001b[0mcoef_init\u001b[0m\u001b[0;34m=\u001b[0m\u001b[0mcoef_init\u001b[0m\u001b[0;34m,\u001b[0m \u001b[0mintercept_init\u001b[0m\u001b[0;34m=\u001b[0m\u001b[0mintercept_init\u001b[0m\u001b[0;34m,\u001b[0m\u001b[0;34m\u001b[0m\u001b[0;34m\u001b[0m\u001b[0m\n\u001b[0;32m--> 711\u001b[0;31m                          sample_weight=sample_weight)\n\u001b[0m\u001b[1;32m    712\u001b[0m \u001b[0;34m\u001b[0m\u001b[0m\n\u001b[1;32m    713\u001b[0m \u001b[0;34m\u001b[0m\u001b[0m\n",
      "\u001b[0;32m/usr/local/lib/python3.7/dist-packages/sklearn/linear_model/_stochastic_gradient.py\u001b[0m in \u001b[0;36m_fit\u001b[0;34m(self, X, y, alpha, C, loss, learning_rate, coef_init, intercept_init, sample_weight)\u001b[0m\n\u001b[1;32m    548\u001b[0m \u001b[0;34m\u001b[0m\u001b[0m\n\u001b[1;32m    549\u001b[0m         self._partial_fit(X, y, alpha, C, loss, learning_rate, self.max_iter,\n\u001b[0;32m--> 550\u001b[0;31m                           classes, sample_weight, coef_init, intercept_init)\n\u001b[0m\u001b[1;32m    551\u001b[0m \u001b[0;34m\u001b[0m\u001b[0m\n\u001b[1;32m    552\u001b[0m         if (self.tol is not None and self.tol > -np.inf\n",
      "\u001b[0;32m/usr/local/lib/python3.7/dist-packages/sklearn/linear_model/_stochastic_gradient.py\u001b[0m in \u001b[0;36m_partial_fit\u001b[0;34m(self, X, y, alpha, C, loss, learning_rate, max_iter, classes, sample_weight, coef_init, intercept_init)\u001b[0m\n\u001b[1;32m    512\u001b[0m             raise ValueError(\n\u001b[1;32m    513\u001b[0m                 \u001b[0;34m\"The number of classes has to be greater than one;\"\u001b[0m\u001b[0;34m\u001b[0m\u001b[0;34m\u001b[0m\u001b[0m\n\u001b[0;32m--> 514\u001b[0;31m                 \" got %d class\" % n_classes)\n\u001b[0m\u001b[1;32m    515\u001b[0m \u001b[0;34m\u001b[0m\u001b[0m\n\u001b[1;32m    516\u001b[0m         \u001b[0;32mreturn\u001b[0m \u001b[0mself\u001b[0m\u001b[0;34m\u001b[0m\u001b[0;34m\u001b[0m\u001b[0m\n",
      "\u001b[0;31mValueError\u001b[0m: The number of classes has to be greater than one; got 1 class"
     ]
    }
   ],
   "source": [
    "from sklearn.linear_model import SGDClassifier\n",
    "\n",
    "classifier = SGDClassifier(random_state=42)\n",
    "classifier.fit(X_train, y_train)"
   ]
  },
  {
   "cell_type": "markdown",
   "id": "Vh6PuvgFsOlE",
   "metadata": {
    "id": "Vh6PuvgFsOlE"
   },
   "source": [
    "### Results\n"
   ]
  },
  {
   "cell_type": "code",
   "execution_count": 63,
   "id": "DWTfWOFgsIhY",
   "metadata": {
    "colab": {
     "base_uri": "https://localhost:8080/",
     "height": 354
    },
    "executionInfo": {
     "elapsed": 791,
     "status": "error",
     "timestamp": 1627773071160,
     "user": {
      "displayName": "Guilherme Samuel",
      "photoUrl": "https://lh3.googleusercontent.com/a-/AOh14Gi5zFr3jUWJ1NdrUB6KSy3C4B0uR2RLqUiKRzi0S2M=s64",
      "userId": "17398030156076443435"
     },
     "user_tz": 180
    },
    "id": "DWTfWOFgsIhY",
    "outputId": "ef46fd45-5c8b-4336-a0f3-8033e2b1881d"
   },
   "outputs": [
    {
     "ename": "ValueError",
     "evalue": "ignored",
     "output_type": "error",
     "traceback": [
      "\u001b[0;31m---------------------------------------------------------------------------\u001b[0m",
      "\u001b[0;31mValueError\u001b[0m                                Traceback (most recent call last)",
      "\u001b[0;32m<ipython-input-63-28ab2e94bd90>\u001b[0m in \u001b[0;36m<module>\u001b[0;34m()\u001b[0m\n\u001b[1;32m      1\u001b[0m \u001b[0;32mfrom\u001b[0m \u001b[0msklearn\u001b[0m\u001b[0;34m.\u001b[0m\u001b[0mmodel_selection\u001b[0m \u001b[0;32mimport\u001b[0m \u001b[0mcross_val_predict\u001b[0m\u001b[0;34m\u001b[0m\u001b[0;34m\u001b[0m\u001b[0m\n\u001b[1;32m      2\u001b[0m \u001b[0;34m\u001b[0m\u001b[0m\n\u001b[0;32m----> 3\u001b[0;31m \u001b[0my_pred\u001b[0m \u001b[0;34m=\u001b[0m \u001b[0mcross_val_predict\u001b[0m\u001b[0;34m(\u001b[0m\u001b[0mclassifier\u001b[0m\u001b[0;34m,\u001b[0m \u001b[0mX_train\u001b[0m\u001b[0;34m,\u001b[0m \u001b[0my_train\u001b[0m\u001b[0;34m,\u001b[0m \u001b[0mcv\u001b[0m\u001b[0;34m=\u001b[0m\u001b[0;36m3\u001b[0m\u001b[0;34m)\u001b[0m\u001b[0;34m\u001b[0m\u001b[0;34m\u001b[0m\u001b[0m\n\u001b[0m",
      "\u001b[0;32m/usr/local/lib/python3.7/dist-packages/sklearn/model_selection/_validation.py\u001b[0m in \u001b[0;36mcross_val_predict\u001b[0;34m(estimator, X, y, groups, cv, n_jobs, verbose, fit_params, pre_dispatch, method)\u001b[0m\n\u001b[1;32m    753\u001b[0m     prediction_blocks = parallel(delayed(_fit_and_predict)(\n\u001b[1;32m    754\u001b[0m         clone(estimator), X, y, train, test, verbose, fit_params, method)\n\u001b[0;32m--> 755\u001b[0;31m         for train, test in cv.split(X, y, groups))\n\u001b[0m\u001b[1;32m    756\u001b[0m \u001b[0;34m\u001b[0m\u001b[0m\n\u001b[1;32m    757\u001b[0m     \u001b[0;31m# Concatenate the predictions\u001b[0m\u001b[0;34m\u001b[0m\u001b[0;34m\u001b[0m\u001b[0;34m\u001b[0m\u001b[0m\n",
      "\u001b[0;32m/usr/local/lib/python3.7/dist-packages/joblib/parallel.py\u001b[0m in \u001b[0;36m__call__\u001b[0;34m(self, iterable)\u001b[0m\n\u001b[1;32m   1039\u001b[0m             \u001b[0;31m# remaining jobs.\u001b[0m\u001b[0;34m\u001b[0m\u001b[0;34m\u001b[0m\u001b[0;34m\u001b[0m\u001b[0m\n\u001b[1;32m   1040\u001b[0m             \u001b[0mself\u001b[0m\u001b[0;34m.\u001b[0m\u001b[0m_iterating\u001b[0m \u001b[0;34m=\u001b[0m \u001b[0;32mFalse\u001b[0m\u001b[0;34m\u001b[0m\u001b[0;34m\u001b[0m\u001b[0m\n\u001b[0;32m-> 1041\u001b[0;31m             \u001b[0;32mif\u001b[0m \u001b[0mself\u001b[0m\u001b[0;34m.\u001b[0m\u001b[0mdispatch_one_batch\u001b[0m\u001b[0;34m(\u001b[0m\u001b[0miterator\u001b[0m\u001b[0;34m)\u001b[0m\u001b[0;34m:\u001b[0m\u001b[0;34m\u001b[0m\u001b[0;34m\u001b[0m\u001b[0m\n\u001b[0m\u001b[1;32m   1042\u001b[0m                 \u001b[0mself\u001b[0m\u001b[0;34m.\u001b[0m\u001b[0m_iterating\u001b[0m \u001b[0;34m=\u001b[0m \u001b[0mself\u001b[0m\u001b[0;34m.\u001b[0m\u001b[0m_original_iterator\u001b[0m \u001b[0;32mis\u001b[0m \u001b[0;32mnot\u001b[0m \u001b[0;32mNone\u001b[0m\u001b[0;34m\u001b[0m\u001b[0;34m\u001b[0m\u001b[0m\n\u001b[1;32m   1043\u001b[0m \u001b[0;34m\u001b[0m\u001b[0m\n",
      "\u001b[0;32m/usr/local/lib/python3.7/dist-packages/joblib/parallel.py\u001b[0m in \u001b[0;36mdispatch_one_batch\u001b[0;34m(self, iterator)\u001b[0m\n\u001b[1;32m    857\u001b[0m                 \u001b[0;32mreturn\u001b[0m \u001b[0;32mFalse\u001b[0m\u001b[0;34m\u001b[0m\u001b[0;34m\u001b[0m\u001b[0m\n\u001b[1;32m    858\u001b[0m             \u001b[0;32melse\u001b[0m\u001b[0;34m:\u001b[0m\u001b[0;34m\u001b[0m\u001b[0;34m\u001b[0m\u001b[0m\n\u001b[0;32m--> 859\u001b[0;31m                 \u001b[0mself\u001b[0m\u001b[0;34m.\u001b[0m\u001b[0m_dispatch\u001b[0m\u001b[0;34m(\u001b[0m\u001b[0mtasks\u001b[0m\u001b[0;34m)\u001b[0m\u001b[0;34m\u001b[0m\u001b[0;34m\u001b[0m\u001b[0m\n\u001b[0m\u001b[1;32m    860\u001b[0m                 \u001b[0;32mreturn\u001b[0m \u001b[0;32mTrue\u001b[0m\u001b[0;34m\u001b[0m\u001b[0;34m\u001b[0m\u001b[0m\n\u001b[1;32m    861\u001b[0m \u001b[0;34m\u001b[0m\u001b[0m\n",
      "\u001b[0;32m/usr/local/lib/python3.7/dist-packages/joblib/parallel.py\u001b[0m in \u001b[0;36m_dispatch\u001b[0;34m(self, batch)\u001b[0m\n\u001b[1;32m    775\u001b[0m         \u001b[0;32mwith\u001b[0m \u001b[0mself\u001b[0m\u001b[0;34m.\u001b[0m\u001b[0m_lock\u001b[0m\u001b[0;34m:\u001b[0m\u001b[0;34m\u001b[0m\u001b[0;34m\u001b[0m\u001b[0m\n\u001b[1;32m    776\u001b[0m             \u001b[0mjob_idx\u001b[0m \u001b[0;34m=\u001b[0m \u001b[0mlen\u001b[0m\u001b[0;34m(\u001b[0m\u001b[0mself\u001b[0m\u001b[0;34m.\u001b[0m\u001b[0m_jobs\u001b[0m\u001b[0;34m)\u001b[0m\u001b[0;34m\u001b[0m\u001b[0;34m\u001b[0m\u001b[0m\n\u001b[0;32m--> 777\u001b[0;31m             \u001b[0mjob\u001b[0m \u001b[0;34m=\u001b[0m \u001b[0mself\u001b[0m\u001b[0;34m.\u001b[0m\u001b[0m_backend\u001b[0m\u001b[0;34m.\u001b[0m\u001b[0mapply_async\u001b[0m\u001b[0;34m(\u001b[0m\u001b[0mbatch\u001b[0m\u001b[0;34m,\u001b[0m \u001b[0mcallback\u001b[0m\u001b[0;34m=\u001b[0m\u001b[0mcb\u001b[0m\u001b[0;34m)\u001b[0m\u001b[0;34m\u001b[0m\u001b[0;34m\u001b[0m\u001b[0m\n\u001b[0m\u001b[1;32m    778\u001b[0m             \u001b[0;31m# A job can complete so quickly than its callback is\u001b[0m\u001b[0;34m\u001b[0m\u001b[0;34m\u001b[0m\u001b[0;34m\u001b[0m\u001b[0m\n\u001b[1;32m    779\u001b[0m             \u001b[0;31m# called before we get here, causing self._jobs to\u001b[0m\u001b[0;34m\u001b[0m\u001b[0;34m\u001b[0m\u001b[0;34m\u001b[0m\u001b[0m\n",
      "\u001b[0;32m/usr/local/lib/python3.7/dist-packages/joblib/_parallel_backends.py\u001b[0m in \u001b[0;36mapply_async\u001b[0;34m(self, func, callback)\u001b[0m\n\u001b[1;32m    206\u001b[0m     \u001b[0;32mdef\u001b[0m \u001b[0mapply_async\u001b[0m\u001b[0;34m(\u001b[0m\u001b[0mself\u001b[0m\u001b[0;34m,\u001b[0m \u001b[0mfunc\u001b[0m\u001b[0;34m,\u001b[0m \u001b[0mcallback\u001b[0m\u001b[0;34m=\u001b[0m\u001b[0;32mNone\u001b[0m\u001b[0;34m)\u001b[0m\u001b[0;34m:\u001b[0m\u001b[0;34m\u001b[0m\u001b[0;34m\u001b[0m\u001b[0m\n\u001b[1;32m    207\u001b[0m         \u001b[0;34m\"\"\"Schedule a func to be run\"\"\"\u001b[0m\u001b[0;34m\u001b[0m\u001b[0;34m\u001b[0m\u001b[0m\n\u001b[0;32m--> 208\u001b[0;31m         \u001b[0mresult\u001b[0m \u001b[0;34m=\u001b[0m \u001b[0mImmediateResult\u001b[0m\u001b[0;34m(\u001b[0m\u001b[0mfunc\u001b[0m\u001b[0;34m)\u001b[0m\u001b[0;34m\u001b[0m\u001b[0;34m\u001b[0m\u001b[0m\n\u001b[0m\u001b[1;32m    209\u001b[0m         \u001b[0;32mif\u001b[0m \u001b[0mcallback\u001b[0m\u001b[0;34m:\u001b[0m\u001b[0;34m\u001b[0m\u001b[0;34m\u001b[0m\u001b[0m\n\u001b[1;32m    210\u001b[0m             \u001b[0mcallback\u001b[0m\u001b[0;34m(\u001b[0m\u001b[0mresult\u001b[0m\u001b[0;34m)\u001b[0m\u001b[0;34m\u001b[0m\u001b[0;34m\u001b[0m\u001b[0m\n",
      "\u001b[0;32m/usr/local/lib/python3.7/dist-packages/joblib/_parallel_backends.py\u001b[0m in \u001b[0;36m__init__\u001b[0;34m(self, batch)\u001b[0m\n\u001b[1;32m    570\u001b[0m         \u001b[0;31m# Don't delay the application, to avoid keeping the input\u001b[0m\u001b[0;34m\u001b[0m\u001b[0;34m\u001b[0m\u001b[0;34m\u001b[0m\u001b[0m\n\u001b[1;32m    571\u001b[0m         \u001b[0;31m# arguments in memory\u001b[0m\u001b[0;34m\u001b[0m\u001b[0;34m\u001b[0m\u001b[0;34m\u001b[0m\u001b[0m\n\u001b[0;32m--> 572\u001b[0;31m         \u001b[0mself\u001b[0m\u001b[0;34m.\u001b[0m\u001b[0mresults\u001b[0m \u001b[0;34m=\u001b[0m \u001b[0mbatch\u001b[0m\u001b[0;34m(\u001b[0m\u001b[0;34m)\u001b[0m\u001b[0;34m\u001b[0m\u001b[0;34m\u001b[0m\u001b[0m\n\u001b[0m\u001b[1;32m    573\u001b[0m \u001b[0;34m\u001b[0m\u001b[0m\n\u001b[1;32m    574\u001b[0m     \u001b[0;32mdef\u001b[0m \u001b[0mget\u001b[0m\u001b[0;34m(\u001b[0m\u001b[0mself\u001b[0m\u001b[0;34m)\u001b[0m\u001b[0;34m:\u001b[0m\u001b[0;34m\u001b[0m\u001b[0;34m\u001b[0m\u001b[0m\n",
      "\u001b[0;32m/usr/local/lib/python3.7/dist-packages/joblib/parallel.py\u001b[0m in \u001b[0;36m__call__\u001b[0;34m(self)\u001b[0m\n\u001b[1;32m    261\u001b[0m         \u001b[0;32mwith\u001b[0m \u001b[0mparallel_backend\u001b[0m\u001b[0;34m(\u001b[0m\u001b[0mself\u001b[0m\u001b[0;34m.\u001b[0m\u001b[0m_backend\u001b[0m\u001b[0;34m,\u001b[0m \u001b[0mn_jobs\u001b[0m\u001b[0;34m=\u001b[0m\u001b[0mself\u001b[0m\u001b[0;34m.\u001b[0m\u001b[0m_n_jobs\u001b[0m\u001b[0;34m)\u001b[0m\u001b[0;34m:\u001b[0m\u001b[0;34m\u001b[0m\u001b[0;34m\u001b[0m\u001b[0m\n\u001b[1;32m    262\u001b[0m             return [func(*args, **kwargs)\n\u001b[0;32m--> 263\u001b[0;31m                     for func, args, kwargs in self.items]\n\u001b[0m\u001b[1;32m    264\u001b[0m \u001b[0;34m\u001b[0m\u001b[0m\n\u001b[1;32m    265\u001b[0m     \u001b[0;32mdef\u001b[0m \u001b[0m__reduce__\u001b[0m\u001b[0;34m(\u001b[0m\u001b[0mself\u001b[0m\u001b[0;34m)\u001b[0m\u001b[0;34m:\u001b[0m\u001b[0;34m\u001b[0m\u001b[0;34m\u001b[0m\u001b[0m\n",
      "\u001b[0;32m/usr/local/lib/python3.7/dist-packages/joblib/parallel.py\u001b[0m in \u001b[0;36m<listcomp>\u001b[0;34m(.0)\u001b[0m\n\u001b[1;32m    261\u001b[0m         \u001b[0;32mwith\u001b[0m \u001b[0mparallel_backend\u001b[0m\u001b[0;34m(\u001b[0m\u001b[0mself\u001b[0m\u001b[0;34m.\u001b[0m\u001b[0m_backend\u001b[0m\u001b[0;34m,\u001b[0m \u001b[0mn_jobs\u001b[0m\u001b[0;34m=\u001b[0m\u001b[0mself\u001b[0m\u001b[0;34m.\u001b[0m\u001b[0m_n_jobs\u001b[0m\u001b[0;34m)\u001b[0m\u001b[0;34m:\u001b[0m\u001b[0;34m\u001b[0m\u001b[0;34m\u001b[0m\u001b[0m\n\u001b[1;32m    262\u001b[0m             return [func(*args, **kwargs)\n\u001b[0;32m--> 263\u001b[0;31m                     for func, args, kwargs in self.items]\n\u001b[0m\u001b[1;32m    264\u001b[0m \u001b[0;34m\u001b[0m\u001b[0m\n\u001b[1;32m    265\u001b[0m     \u001b[0;32mdef\u001b[0m \u001b[0m__reduce__\u001b[0m\u001b[0;34m(\u001b[0m\u001b[0mself\u001b[0m\u001b[0;34m)\u001b[0m\u001b[0;34m:\u001b[0m\u001b[0;34m\u001b[0m\u001b[0;34m\u001b[0m\u001b[0m\n",
      "\u001b[0;32m/usr/local/lib/python3.7/dist-packages/sklearn/model_selection/_validation.py\u001b[0m in \u001b[0;36m_fit_and_predict\u001b[0;34m(estimator, X, y, train, test, verbose, fit_params, method)\u001b[0m\n\u001b[1;32m    839\u001b[0m         \u001b[0mestimator\u001b[0m\u001b[0;34m.\u001b[0m\u001b[0mfit\u001b[0m\u001b[0;34m(\u001b[0m\u001b[0mX_train\u001b[0m\u001b[0;34m,\u001b[0m \u001b[0;34m**\u001b[0m\u001b[0mfit_params\u001b[0m\u001b[0;34m)\u001b[0m\u001b[0;34m\u001b[0m\u001b[0;34m\u001b[0m\u001b[0m\n\u001b[1;32m    840\u001b[0m     \u001b[0;32melse\u001b[0m\u001b[0;34m:\u001b[0m\u001b[0;34m\u001b[0m\u001b[0;34m\u001b[0m\u001b[0m\n\u001b[0;32m--> 841\u001b[0;31m         \u001b[0mestimator\u001b[0m\u001b[0;34m.\u001b[0m\u001b[0mfit\u001b[0m\u001b[0;34m(\u001b[0m\u001b[0mX_train\u001b[0m\u001b[0;34m,\u001b[0m \u001b[0my_train\u001b[0m\u001b[0;34m,\u001b[0m \u001b[0;34m**\u001b[0m\u001b[0mfit_params\u001b[0m\u001b[0;34m)\u001b[0m\u001b[0;34m\u001b[0m\u001b[0;34m\u001b[0m\u001b[0m\n\u001b[0m\u001b[1;32m    842\u001b[0m     \u001b[0mfunc\u001b[0m \u001b[0;34m=\u001b[0m \u001b[0mgetattr\u001b[0m\u001b[0;34m(\u001b[0m\u001b[0mestimator\u001b[0m\u001b[0;34m,\u001b[0m \u001b[0mmethod\u001b[0m\u001b[0;34m)\u001b[0m\u001b[0;34m\u001b[0m\u001b[0;34m\u001b[0m\u001b[0m\n\u001b[1;32m    843\u001b[0m     \u001b[0mpredictions\u001b[0m \u001b[0;34m=\u001b[0m \u001b[0mfunc\u001b[0m\u001b[0;34m(\u001b[0m\u001b[0mX_test\u001b[0m\u001b[0;34m)\u001b[0m\u001b[0;34m\u001b[0m\u001b[0;34m\u001b[0m\u001b[0m\n",
      "\u001b[0;32m/usr/local/lib/python3.7/dist-packages/sklearn/linear_model/_stochastic_gradient.py\u001b[0m in \u001b[0;36mfit\u001b[0;34m(self, X, y, coef_init, intercept_init, sample_weight)\u001b[0m\n\u001b[1;32m    709\u001b[0m                          \u001b[0mloss\u001b[0m\u001b[0;34m=\u001b[0m\u001b[0mself\u001b[0m\u001b[0;34m.\u001b[0m\u001b[0mloss\u001b[0m\u001b[0;34m,\u001b[0m \u001b[0mlearning_rate\u001b[0m\u001b[0;34m=\u001b[0m\u001b[0mself\u001b[0m\u001b[0;34m.\u001b[0m\u001b[0mlearning_rate\u001b[0m\u001b[0;34m,\u001b[0m\u001b[0;34m\u001b[0m\u001b[0;34m\u001b[0m\u001b[0m\n\u001b[1;32m    710\u001b[0m                          \u001b[0mcoef_init\u001b[0m\u001b[0;34m=\u001b[0m\u001b[0mcoef_init\u001b[0m\u001b[0;34m,\u001b[0m \u001b[0mintercept_init\u001b[0m\u001b[0;34m=\u001b[0m\u001b[0mintercept_init\u001b[0m\u001b[0;34m,\u001b[0m\u001b[0;34m\u001b[0m\u001b[0;34m\u001b[0m\u001b[0m\n\u001b[0;32m--> 711\u001b[0;31m                          sample_weight=sample_weight)\n\u001b[0m\u001b[1;32m    712\u001b[0m \u001b[0;34m\u001b[0m\u001b[0m\n\u001b[1;32m    713\u001b[0m \u001b[0;34m\u001b[0m\u001b[0m\n",
      "\u001b[0;32m/usr/local/lib/python3.7/dist-packages/sklearn/linear_model/_stochastic_gradient.py\u001b[0m in \u001b[0;36m_fit\u001b[0;34m(self, X, y, alpha, C, loss, learning_rate, coef_init, intercept_init, sample_weight)\u001b[0m\n\u001b[1;32m    548\u001b[0m \u001b[0;34m\u001b[0m\u001b[0m\n\u001b[1;32m    549\u001b[0m         self._partial_fit(X, y, alpha, C, loss, learning_rate, self.max_iter,\n\u001b[0;32m--> 550\u001b[0;31m                           classes, sample_weight, coef_init, intercept_init)\n\u001b[0m\u001b[1;32m    551\u001b[0m \u001b[0;34m\u001b[0m\u001b[0m\n\u001b[1;32m    552\u001b[0m         if (self.tol is not None and self.tol > -np.inf\n",
      "\u001b[0;32m/usr/local/lib/python3.7/dist-packages/sklearn/linear_model/_stochastic_gradient.py\u001b[0m in \u001b[0;36m_partial_fit\u001b[0;34m(self, X, y, alpha, C, loss, learning_rate, max_iter, classes, sample_weight, coef_init, intercept_init)\u001b[0m\n\u001b[1;32m    512\u001b[0m             raise ValueError(\n\u001b[1;32m    513\u001b[0m                 \u001b[0;34m\"The number of classes has to be greater than one;\"\u001b[0m\u001b[0;34m\u001b[0m\u001b[0;34m\u001b[0m\u001b[0m\n\u001b[0;32m--> 514\u001b[0;31m                 \" got %d class\" % n_classes)\n\u001b[0m\u001b[1;32m    515\u001b[0m \u001b[0;34m\u001b[0m\u001b[0m\n\u001b[1;32m    516\u001b[0m         \u001b[0;32mreturn\u001b[0m \u001b[0mself\u001b[0m\u001b[0;34m\u001b[0m\u001b[0;34m\u001b[0m\u001b[0m\n",
      "\u001b[0;31mValueError\u001b[0m: The number of classes has to be greater than one; got 1 class"
     ]
    }
   ],
   "source": [
    "from sklearn.model_selection import cross_val_predict\n",
    "\n",
    "y_pred = cross_val_predict(classifier, X_train, y_train, cv=3)"
   ]
  },
  {
   "cell_type": "code",
   "execution_count": 60,
   "id": "yUQBcRtxsSst",
   "metadata": {
    "colab": {
     "base_uri": "https://localhost:8080/"
    },
    "executionInfo": {
     "elapsed": 215,
     "status": "ok",
     "timestamp": 1627773005475,
     "user": {
      "displayName": "Guilherme Samuel",
      "photoUrl": "https://lh3.googleusercontent.com/a-/AOh14Gi5zFr3jUWJ1NdrUB6KSy3C4B0uR2RLqUiKRzi0S2M=s64",
      "userId": "17398030156076443435"
     },
     "user_tz": 180
    },
    "id": "yUQBcRtxsSst",
    "outputId": "c7703f9a-9c7e-49c6-bfd5-ee4e54179be6"
   },
   "outputs": [
    {
     "name": "stdout",
     "output_type": "stream",
     "text": [
      "[[9]]\n",
      "\n",
      "Accuracy: 1.0\n"
     ]
    }
   ],
   "source": [
    "from sklearn.metrics import confusion_matrix, accuracy_score\n",
    "\n",
    "cm = confusion_matrix(y_test, y_pred)\n",
    "print(cm)\n",
    "print(\"\\nAccuracy:\", accuracy_score(y_test, y_pred))"
   ]
  },
  {
   "cell_type": "code",
   "execution_count": 69,
   "id": "45bbPGpPsZZk",
   "metadata": {
    "colab": {
     "base_uri": "https://localhost:8080/",
     "height": 275
    },
    "executionInfo": {
     "elapsed": 243,
     "status": "ok",
     "timestamp": 1627773215049,
     "user": {
      "displayName": "Guilherme Samuel",
      "photoUrl": "https://lh3.googleusercontent.com/a-/AOh14Gi5zFr3jUWJ1NdrUB6KSy3C4B0uR2RLqUiKRzi0S2M=s64",
      "userId": "17398030156076443435"
     },
     "user_tz": 180
    },
    "id": "45bbPGpPsZZk",
    "outputId": "fbbf9f77-7c4e-4bb0-c7bc-e23779b29b17"
   },
   "outputs": [
    {
     "data": {
      "image/png": "[encoded data removed]",
      "text/plain": [
       "<Figure size 288x288 with 1 Axes>"
      ]
     },
     "metadata": {
      "needs_background": "light",
      "tags": []
     },
     "output_type": "display_data"
    }
   ],
   "source": [
    "import matplotlib.pyplot as plt\n",
    "\n",
    "plt.matshow(cm, cmap='Blues')\n",
    "plt.show()"
   ]
  }
 ],
 "metadata": {
  "colab": {
   "collapsed_sections": [
    "given-leather",
    "WdVj35tht2Gy",
    "binary-weapon",
    "resistant-twins",
    "worst-writing",
    "6T4d__LluBrg",
    "Mf5_AQHillfb",
    "gh2NLj7pnaxx"
   ],
   "name": "09 - Machine Learning.ipynb",
   "provenance": [],
   "toc_visible": true
  },
  "kernelspec": {
   "display_name": "Python 3",
   "language": "python",
   "name": "python3"
  },
  "language_info": {
   "codemirror_mode": {
    "name": "ipython",
    "version": 3
   },
   "file_extension": ".py",
   "mimetype": "text/x-python",
   "name": "python",
   "nbconvert_exporter": "python",
   "pygments_lexer": "ipython3",
   "version": "3.8.7"
  }
 },
 "nbformat": 4,
 "nbformat_minor": 5
}
