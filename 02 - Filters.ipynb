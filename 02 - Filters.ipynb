{
 "cells": [
  {
   "cell_type": "markdown",
   "metadata": {
    "id": "YyXwv0M-5NPR"
   },
   "source": [
    "# Frequency Domain Filtering Fundamentals\n",
    "\n",
    "---\n",
    "\n",
    "## Introduction\n",
    "Filtering in the frequency domain consists of modifying the Fourier transform of an signal (can be a image, a media file, a light curve...) and then taking the inverse tranform to obtained the filtered result. Thus, given a digital signal, $f(x)$, of length $M$, the basic filtering equation is: \n",
    "\n",
    "$$\n",
    "g(x) = \\mathcal{F}^{-1}[H(u)F(u)] \\\\\n",
    "$$\n",
    "\n",
    "where $\\mathcal{F}^{-1}$ is the Inverse discrete Fourier transform, $F(u)$ is the Fourier transform of the given function $f(x)$ (input), $H(u)$ is the _filter transfer function_, and $g(x)$ is the filtered signal (output). Both $F$, $H$ and $G$ are arrays of size $M$, the same as the input signal. The product $H(u)F(u)$ is formed using array multiplication; that is, $G(i, k)=H(i, k)F(i, k)$."
   ]
  },
  {
   "cell_type": "markdown",
   "metadata": {
    "id": "mL2NE6XA5SkK"
   },
   "source": [
    "## Expand LightCurves borders\n",
    "\n",
    "To perform the filtering of the light curves in this work, we will use the Fast Fourier Transform (FFT) algorithm in  order to convert the signal in its original domain in the frequency domain. The choice of FFT is simple, this algorithm has complexity of $O(N log\\ N)$, while the Discrete-time Fourier transform has complexity $O(N^2)$, where $N$ is the input data size, it means, FFT is much more computationally efficient.\n",
    "\n",
    "\n",
    "However, the FFT has some peculiarities that can lead to problemas and unexpected results. The algorithm is based on the sucessive folding method [Gonzales and Woods, 1992], in other words, it assumes that the input signal is periodic and that the number of samples is an integer and a power of 2, but the \n",
    "second premise is not a requirement general. The first conjecture is quite relevant to not having distortion in the algorithm outout although. Colleting $M$ samples of a signal, which CoRoT did for us, is equivalent to cutting a \n",
    "finite piece of the real signal, i.e., we take a window between $T_1$ and $T_2$ of a defined signal of ${-\\infty}$ to ${+\\infty}$. There is a possibility that this window perfectly represents the oscillations of the original signal,\n",
    "that is contain complete periods of all frequencies, thus we will have a FFT without distortions, but it is statistically unlikely that this will happen. In this case, we will have incomplete periods, which will introduce high frequency\n",
    "distorcions in the signal that, in general, will be found at the ends of the signal.\n",
    "\n",
    " The reason that distorcions are commonly introduced at the ends of the signal is justified by the way FFT works. \n",
    "Their recursive calculations imply append the end of the signal with it's beginning (from the FFT's premise, we would\n",
    "have a complete peridod), and it is at this conection that unexpected frequencies are introduced. So, to reduce this effect,\n",
    "we will apply the method of expanding the signal edges. Given a sequence $A$, of size $k$, the method consists of adding\n",
    "$N$ points before $A$'s first point, $A[0]$ and $N$ points after its last point, $A[-1]$. Finnaly, we will have a sequence\n",
    "$B$, of size $(k + 2N)$."
   ]
  },
  {
   "cell_type": "code",
   "execution_count": 1,
   "metadata": {
    "execution": {
     "iopub.execute_input": "2021-08-02T00:23:53.857696Z",
     "iopub.status.busy": "2021-08-02T00:23:53.856696Z",
     "iopub.status.idle": "2021-08-02T00:23:53.874701Z",
     "shell.execute_reply": "2021-08-02T00:23:53.874701Z"
    },
    "id": "uKBGM-uT5Vsg"
   },
   "outputs": [],
   "source": [
    "def expand_borders(array, num):\n",
    "  aux_pre = np.zeros(num)\n",
    "  aux_pos = np.zeros(num)\n",
    "  i = 0\n",
    "  for i in range(num):\n",
    "    aux_pre[i] = array[0]\n",
    "    aux_pos[i] = array[-1]\n",
    "  \n",
    "  return np.concatenate((aux_pre, array, aux_pos)).ravel()"
   ]
  },
  {
   "cell_type": "markdown",
   "metadata": {
    "id": "fa098Vi95bha"
   },
   "source": [
    "## Avoiding _wraparound_ error\n",
    "\n",
    "The product $[H(u)F(u)]$, provided by the basis filtering equation, is obtained by the Array product. Consider the following 4x1 vectors:\n",
    "\n",
    "$$\n",
    "\\begin{bmatrix}\n",
    "  a_{1} & a_{2} & a_{3} & a_{4}\n",
    "\\end{bmatrix} \\kern1em and \\kern1em\n",
    "\\begin{bmatrix}\n",
    "  b_{1} & b_{2} & b_{3} & b_{4}\n",
    "\\end{bmatrix} \\\\\n",
    "$$\n",
    "\n",
    "\n",
    "The Array product is defined by:\n",
    "\n",
    "$$\n",
    "\\begin{bmatrix}\n",
    "  a_{1} & a_{2} & a_{3} & a_{4}\n",
    "\\end{bmatrix}\n",
    "\\begin{bmatrix}\n",
    "  b_{1} & b_{2} & b_{3} & b_{4}\n",
    "\\end{bmatrix} = \n",
    "\\begin{bmatrix}\n",
    "  a_{1}b_{1} & a_{2}b_{2} & a_{3}b_{3} & a_{4}b_{4}\n",
    "\\end{bmatrix} \\\\\n",
    "$$\n",
    "\n",
    "In mathematics, convolution is a linear operator of two functions ($f$ and $g$) that measures how the shape of one is modified by the other. The convolution of two functions involves rotating by 180° one about its origin and displacemening it past the other. In discrete functions, it is given by:\n",
    "\n",
    "$$ (f*g)(k) = h(k) \\triangleq \\sum_{j=0}^{k}f(j) \\cdot g(k-j)  $$\n",
    "\n",
    "where $f$ and $g$ are arrays of size $n$.\n",
    "\n",
    "The 1-D Convolution theorem, in the case of discrete convolution, tells us that:\n",
    "\n",
    "$$ \\mathcal{F}\\{ f*g \\} = k \\cdot \\mathcal{F}\\{f\\} \\mathcal{F}\\{g\\}  $$\n",
    "\n",
    "where $\\mathcal{F}$ is the Fourier transform and $k$ is a constant.\n",
    "\n",
    "Therefore, the Fourier transform of the convolution of two functions in spatial domain corresponds to the product of the transformations of these functions in the frequency domain. Writing in order to facilitate the relationship between ther Convolution theorem and the basic filtering equation, we have:\n",
    "\n",
    "$$ f(t) * h(t)  \\iff F(\\mu)H(\\mu) $$\n",
    "\n",
    "The double arrow means that the expression on the right side is obtained by taking the Fourier transform of the expression on the left, as well as, the expression on the left was obtained by taking the inverse Fourier transform of the expression on the right.\n",
    "\n",
    "\n",
    "\n",
    "---\n",
    "\n",
    "\n",
    "Assim, se utilizar a DTF e o Teorema da convolução para obter o mesmo resultado de filtragem, devemos tomar conta a periodicidade implícita na expressão para a DFT. Nesse caso, estaríamos aplicando a convolução à duas funções teóricamente períodicas, o que implicaria no resultado da convolução ser também periódico que, por meio de aplicações práticas nota-se ser completamente errôneo. A proximidade dos períodos de ambas funções é tamanha que eles interferem um no outro, provocando o erro de _wraparound_ (efeito de borda). \n",
    "\n",
    "Já estamos minimizando esse erro realizando a expansão das extremidades do sinal, contudo essa prática pode não ser suficiente para lidar com o efeito de borda. Para tornar nosso algoritmo ainda mais robusto quanto ao erro de _wraparound_ e otimizar o cálculo da FFT, aplicaremos o Zero Padding\n",
    "\n",
    "Esse procedimento consiste em adicionar zeros no final do sinal do dominío espacial, antes de ser calculada sua transformada de Fourier, visando aumentar o seu tamanho. Esse procedimento é utilizado para remover a periodicidade implícita do sinal, o que acarreta em resultados inesperados no resultado da filtragem. Tal propriedade matemática está deduzida na obra Fast Fourier Transform and Its Applications by E. Brigham (1988).\n",
    "\n",
    "Outra grande utilidade do Zero Padding é em otimizar o algoritmo da FFT. Como, seguindo algumas regras, podemos modificar o tamanho no nosso sinal original, é uma boa prática transformar o seu tamanho em uma potência de 2. Para prosseguirmos com esse procedimento, temos que seguir algumas regras: [FFT Zero Padding](https://www.bitweenie.com/listings/fft-zero-padding/).\n",
    "\n"
   ]
  },
  {
   "cell_type": "code",
   "execution_count": 2,
   "metadata": {
    "execution": {
     "iopub.execute_input": "2021-08-02T00:23:53.879702Z",
     "iopub.status.busy": "2021-08-02T00:23:53.878702Z",
     "iopub.status.idle": "2021-08-02T00:23:53.890704Z",
     "shell.execute_reply": "2021-08-02T00:23:53.890704Z"
    },
    "id": "KlFBRP_f5eo4"
   },
   "outputs": [],
   "source": [
    "def padding(array):\n",
    "  return np.append(array, np.zeros(len(array)))"
   ]
  },
  {
   "cell_type": "markdown",
   "metadata": {
    "id": "Sqr7rWjU5gU4"
   },
   "source": [
    "## Centering the transform\n",
    "\n",
    "With Zero Padding applied, the next step is to try to simplift the definition of the filter transfer function, $H(u)$. Based on symmetry properties of funcions, it is noted that the specification of $H(u)$ is quite simplified when we are working with symmetric functions by their center, which requires that their Fourier transform $F(u)$ also be centralized.\n",
    "\n",
    "The centralization is demostraded by the propert of translation and rotation of the Fourier transform:\n",
    "\n",
    "$$ f(x) e^{j2\\pi(u_0 x/M)} \\iff F(u - u_0) \\\\ $$\n",
    "\n",
    "That is, multiply $f(x)$ by the exponential shown shifts the origin of DFT to $u_0$. Taking $u_0 = M/2$, the exponential becomes $e^{j\\pi x} = (-1)^{x}$, stricly because $x$ is an integer. So,\n",
    "\n",
    "$$ f(x) (-1)^{x} \\iff F(u - M/2) \\\\ $$\n",
    "\n",
    "Therefore, the multiplication of the input signal $f(x)$ by $(-1)^{x}$ implies the displacement of the data so that $F(0)$ it in the center of the interval $[0, M-1]$, as we wanted.\n",
    "\n",
    "This procedure must be done before computing the Fourier transform of $f(x)$ and it is useful to help in visualizing the filtering process and in optimizing the generation of the filter array, so it not mandatory to implement it.\n",
    "\n"
   ]
  },
  {
   "cell_type": "code",
   "execution_count": 3,
   "metadata": {
    "execution": {
     "iopub.execute_input": "2021-08-02T00:23:53.894705Z",
     "iopub.status.busy": "2021-08-02T00:23:53.894705Z",
     "iopub.status.idle": "2021-08-02T00:23:53.906708Z",
     "shell.execute_reply": "2021-08-02T00:23:53.907709Z"
    },
    "id": "qciqAUxy5iCJ"
   },
   "outputs": [],
   "source": [
    "def multiplying_by_minus_one_to_index(array):\n",
    "  i = 0\n",
    "  new_array = np.ones(len(array))\n",
    "\n",
    "  for i in range(len(array)):\n",
    "    new_array[i] = array[i] * ( (-1)**(i) )\n",
    "  \n",
    "  return new_array"
   ]
  },
  {
   "cell_type": "markdown",
   "metadata": {
    "id": "2gwtxssB5kwm"
   },
   "source": [
    "## Taking the Fourier transform"
   ]
  },
  {
   "cell_type": "code",
   "execution_count": 4,
   "metadata": {
    "execution": {
     "iopub.execute_input": "2021-08-02T00:23:53.910708Z",
     "iopub.status.busy": "2021-08-02T00:23:53.909708Z",
     "iopub.status.idle": "2021-08-02T00:23:53.922712Z",
     "shell.execute_reply": "2021-08-02T00:23:53.922712Z"
    },
    "id": "Uj0zb4Ck5l1x"
   },
   "outputs": [],
   "source": [
    "def fourier_transform(array):\n",
    "  fft = np.fft.fft(array)\n",
    "  \n",
    "  return fft"
   ]
  },
  {
   "cell_type": "markdown",
   "metadata": {
    "id": "vrxVfg_p5p-D"
   },
   "source": [
    "## Filter Transfer Function\n",
    "\n",
    "Each filter has their own transfer function, ..."
   ]
  },
  {
   "cell_type": "markdown",
   "metadata": {
    "id": "SFXXWT9G5t9D"
   },
   "source": [
    "## Inverse Fourier transform"
   ]
  },
  {
   "cell_type": "code",
   "execution_count": 5,
   "metadata": {
    "execution": {
     "iopub.execute_input": "2021-08-02T00:23:53.925712Z",
     "iopub.status.busy": "2021-08-02T00:23:53.925712Z",
     "iopub.status.idle": "2021-08-02T00:23:53.938715Z",
     "shell.execute_reply": "2021-08-02T00:23:53.938715Z"
    },
    "id": "HRk4U3PB5uV0"
   },
   "outputs": [],
   "source": [
    "def inverse_fourier_transform(array):\n",
    "  ifft = np.fft.ifft(array)\n",
    "\n",
    "  return ifft"
   ]
  },
  {
   "cell_type": "markdown",
   "metadata": {
    "id": "liLXnzAL5w92"
   },
   "source": [
    "## Removing Zero-Padding"
   ]
  },
  {
   "cell_type": "code",
   "execution_count": 6,
   "metadata": {
    "execution": {
     "iopub.execute_input": "2021-08-02T00:23:53.941717Z",
     "iopub.status.busy": "2021-08-02T00:23:53.940715Z",
     "iopub.status.idle": "2021-08-02T00:23:53.954720Z",
     "shell.execute_reply": "2021-08-02T00:23:53.953721Z"
    },
    "id": "SKb_xowf5xZC"
   },
   "outputs": [],
   "source": [
    "def no_padding(array):\n",
    "  return array[:int(len(array)/2)]"
   ]
  },
  {
   "cell_type": "markdown",
   "metadata": {
    "id": "qXgLCbCk5zlg"
   },
   "source": [
    "## Removing borders expanded"
   ]
  },
  {
   "cell_type": "code",
   "execution_count": 7,
   "metadata": {
    "execution": {
     "iopub.execute_input": "2021-08-02T00:23:53.957722Z",
     "iopub.status.busy": "2021-08-02T00:23:53.957722Z",
     "iopub.status.idle": "2021-08-02T00:23:53.970728Z",
     "shell.execute_reply": "2021-08-02T00:23:53.969728Z"
    },
    "id": "X5KHq3Gc50F2"
   },
   "outputs": [],
   "source": [
    "def remove_expanded_borders(array, param):\n",
    "  aux = np.delete(array, np.s_[:param])\n",
    "  removed = np.delete(aux, np.s_[-param:])\n",
    "\n",
    "  return removed"
   ]
  },
  {
   "cell_type": "markdown",
   "metadata": {
    "id": "Y7PdDhPg54BV"
   },
   "source": [
    "## Re-multiplying data by $(-1)^{x}$"
   ]
  },
  {
   "cell_type": "markdown",
   "metadata": {
    "id": "Ci6Hue2TzB1a"
   },
   "source": [
    "# Nonlinear filter\n",
    "\n",
    "---\n",
    "\n",
    "## Introduction\n"
   ]
  }
 ],
 "metadata": {
  "colab": {
   "authorship_tag": "ABX9TyPXNSf+GTpLIh9aaquLqeYy",
   "collapsed_sections": [],
   "name": "02 - Filters.ipynb",
   "provenance": [],
   "toc_visible": true
  },
  "kernelspec": {
   "display_name": "Python 3",
   "name": "python3"
  },
  "language_info": {
   "codemirror_mode": {
    "name": "ipython",
    "version": 3
   },
   "file_extension": ".py",
   "mimetype": "text/x-python",
   "name": "python",
   "nbconvert_exporter": "python",
   "pygments_lexer": "ipython3",
   "version": "3.8.7"
  }
 },
 "nbformat": 4,
 "nbformat_minor": 0
}
